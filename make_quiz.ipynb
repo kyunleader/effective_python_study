{
 "cells": [
  {
   "cell_type": "markdown",
   "metadata": {},
   "source": [
    "### effective_python"
   ]
  },
  {
   "cell_type": "markdown",
   "metadata": {},
   "source": [
    "### ch.1 문제 만들기"
   ]
  },
  {
   "cell_type": "code",
   "execution_count": 1,
   "metadata": {},
   "outputs": [],
   "source": [
    "# 1번. pep8 스타일에 따라서 코드의 스타일을 수정하세용"
   ]
  },
  {
   "cell_type": "code",
   "execution_count": 14,
   "metadata": {},
   "outputs": [
    {
     "name": "stdout",
     "output_type": "stream",
     "text": [
      "3\n",
      "3\n",
      "2\n",
      "빈 리스트 입니다.\n",
      "3\n"
     ]
    }
   ],
   "source": [
    "list_1=[[1,2,3],[4,5,6],[7,8],[],[9,10,11]]\n",
    "dic_1 = {'a':1,'b':2, 'c' : 3,'d': 4}\n",
    "class p_m:\n",
    "    def plus(a=0,b=0):\n",
    "        c=a+b\n",
    "        return c\n",
    "    def minus(d = 0, e = 0):\n",
    "        f = d-e\n",
    "        \n",
    "        return f\n",
    "\n",
    "for i in list_1:\n",
    "    if len(i) == 0:print('빈 리스트 입니다.')\n",
    "    else:print(len(i))"
   ]
  },
  {
   "cell_type": "code",
   "execution_count": 15,
   "metadata": {},
   "outputs": [
    {
     "data": {
      "text/plain": [
       "3"
      ]
     },
     "execution_count": 15,
     "metadata": {},
     "output_type": "execute_result"
    }
   ],
   "source": [
    "p_m.plus(1,2)"
   ]
  },
  {
   "cell_type": "code",
   "execution_count": 18,
   "metadata": {},
   "outputs": [
    {
     "name": "stdout",
     "output_type": "stream",
     "text": [
      "3\n",
      "3\n",
      "2\n",
      "빈 리스트 입니다.\n",
      "3\n"
     ]
    }
   ],
   "source": [
    "# 정답 : 변수 대입시 앞뒤 공백, 리스트간 공백, 딕셔러니 공백, 함수 안의 =앞뒤 붙여쓰기, \n",
    "#       if else 문 줄바꿈, len(i) == 0 바꿔쓰기, 클래스와 함수간 2줄 공백, 함수끼리 1줄 공백\n",
    "list_1 = [[1, 2, 3], [4, 5, 6], [7, 8], [], [9, 10, 11]]\n",
    "dic_1 = {'a': 1, 'b': 2, 'c': 3, 'd': 4}\n",
    "\n",
    "\n",
    "class p_m:\n",
    "    \n",
    "    \n",
    "    def plus(a=0, b=0):\n",
    "        c = a + b\n",
    "        return c\n",
    "\n",
    "    def minus(d=0, e=0):\n",
    "        f = d - e\n",
    "        return f\n",
    "\n",
    "\n",
    "for i in list_1:\n",
    "    if not i:\n",
    "        print('빈 리스트 입니다.')\n",
    "    else:\n",
    "        print(len(i))"
   ]
  },
  {
   "cell_type": "code",
   "execution_count": 41,
   "metadata": {},
   "outputs": [
    {
     "name": "stdout",
     "output_type": "stream",
     "text": [
      "red an27.35%n%sd blue\n"
     ]
    }
   ],
   "source": [
    "# 2번. 다음식의 print 결과는 어떻게 나올까?\n",
    "print('red %s blue' %f'an{0.2735456:.2%}n%sd')"
   ]
  },
  {
   "cell_type": "code",
   "execution_count": null,
   "metadata": {},
   "outputs": [],
   "source": []
  }
 ],
 "metadata": {
  "kernelspec": {
   "display_name": "Python 3",
   "language": "python",
   "name": "python3"
  },
  "language_info": {
   "codemirror_mode": {
    "name": "ipython",
    "version": 3
   },
   "file_extension": ".py",
   "mimetype": "text/x-python",
   "name": "python",
   "nbconvert_exporter": "python",
   "pygments_lexer": "ipython3",
   "version": "3.7.4"
  }
 },
 "nbformat": 4,
 "nbformat_minor": 4
}
