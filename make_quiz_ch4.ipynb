{
 "cells": [
  {
   "cell_type": "code",
   "execution_count": 5,
   "metadata": {},
   "outputs": [
    {
     "data": {
      "text/plain": [
       "[4, 16, 36, 64, 100]"
      ]
     },
     "execution_count": 5,
     "metadata": {},
     "output_type": "execute_result"
    }
   ],
   "source": [
    "# 1번 다음 for문을 컴프리헨션으로 바꿔보자\n",
    "q1 = list(range(1,11))\n",
    "ans = []\n",
    "for i in q1:\n",
    "    if i % 2 == 0:\n",
    "        ans.append(i**2)   # 짝수만을 가져와서 제곱하는 for 문\n",
    "print(ans)"
   ]
  },
  {
   "cell_type": "code",
   "execution_count": 6,
   "metadata": {},
   "outputs": [
    {
     "data": {
      "text/plain": [
       "[4, 16, 36, 64, 100]"
      ]
     },
     "execution_count": 6,
     "metadata": {},
     "output_type": "execute_result"
    }
   ],
   "source": [
    "# 1번 답\n",
    "ans = [i**2 for i in q1 if i % 2 == 0]\n",
    "ans"
   ]
  },
  {
   "cell_type": "code",
   "execution_count": 8,
   "metadata": {},
   "outputs": [
    {
     "data": {
      "text/plain": [
       "[0, 1, 2, 3, 4, 5, 6, 3, 4, 5, 6, 7, 8]"
      ]
     },
     "execution_count": 8,
     "metadata": {},
     "output_type": "execute_result"
    }
   ],
   "source": [
    "# 2번 다음 함수를 yield from을 활용해서 더 간단하게 바꿔보자\n",
    "\n",
    "def quiz2():\n",
    "    ans2 = []\n",
    "    for i in range(0,7):\n",
    "        ans2.append(i)\n",
    "    for i in range(3,9):\n",
    "        ans2.append(i)\n",
    "    return ans2\n",
    "quiz2()"
   ]
  },
  {
   "cell_type": "code",
   "execution_count": 10,
   "metadata": {},
   "outputs": [
    {
     "data": {
      "text/plain": [
       "[0, 1, 2, 3, 4, 5, 6, 3, 4, 5, 6, 7, 8]"
      ]
     },
     "execution_count": 10,
     "metadata": {},
     "output_type": "execute_result"
    }
   ],
   "source": [
    "# 2번 답\n",
    "def append_list(a,b):\n",
    "    for i in range(a,b):\n",
    "        yield i\n",
    "        \n",
    "def quiz2_ans():\n",
    "    yield from append_list(0,7)\n",
    "    yield from append_list(3,9)\n",
    "\n",
    "list(quiz2_ans())"
   ]
  },
  {
   "cell_type": "code",
   "execution_count": null,
   "metadata": {},
   "outputs": [],
   "source": []
  }
 ],
 "metadata": {
  "kernelspec": {
   "display_name": "Python 3",
   "language": "python",
   "name": "python3"
  },
  "language_info": {
   "codemirror_mode": {
    "name": "ipython",
    "version": 3
   },
   "file_extension": ".py",
   "mimetype": "text/x-python",
   "name": "python",
   "nbconvert_exporter": "python",
   "pygments_lexer": "ipython3",
   "version": "3.7.4"
  }
 },
 "nbformat": 4,
 "nbformat_minor": 4
}
