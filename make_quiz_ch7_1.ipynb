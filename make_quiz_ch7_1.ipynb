{
 "cells": [
  {
   "cell_type": "code",
   "execution_count": 1,
   "metadata": {},
   "outputs": [
    {
     "name": "stdout",
     "output_type": "stream",
     "text": [
      "[1, 47, 451799, 21234553]\n",
      "[1, 7, 89, 623, 8741, 61187, 777949, 5445643]\n",
      "[1, 2, 2267231, 4534462]\n",
      "[1, 3, 5, 11, 15, 23, 33, 55, 69, 115, 149, 165, 253, 345, 447, 745, 759, 1265, 1639, 2235, 3427, 3795, 4917, 8195, 10281, 17135, 24585, 37697, 51405, 113091, 188485, 565455]\n",
      "2.486초 걸림\n"
     ]
    }
   ],
   "source": [
    "# 문제 1. 다음음 쓰레딩을 사용하여 작동시켜라 \n",
    "\n",
    "def factorize(number):\n",
    "    for i in range(1, number+1):\n",
    "        if number % i == 0:\n",
    "            yield i\n",
    "            \n",
    "numbers = [21234553,5445643,4534462,565455]\n",
    "\n",
    "\n",
    "## 일반적인 작동방법\n",
    "import time\n",
    "\n",
    "start = time.time()\n",
    "\n",
    "for number in numbers:\n",
    "    print(list(factorize(number)))\n",
    "\n",
    "end= time.time()\n",
    "delta = end - start\n",
    "print(f'{delta:.3f}초 걸림')\n",
    "\n",
    "\n",
    "## 쓰레딩 작동방법\n",
    "from threading import Thread\n",
    "\n",
    "class FactorizeThread(Thread):\n",
    "    def __init__(self, number):\n",
    "        super().__init__()\n",
    "        self.number = number\n",
    "    \n",
    "    def run(self):\n",
    "        self.factors = list(factorize(self.number))\n",
    "        \n",
    ".........(여기서부터 작성)"
   ]
  },
  {
   "cell_type": "code",
   "execution_count": 2,
   "metadata": {},
   "outputs": [
    {
     "name": "stdout",
     "output_type": "stream",
     "text": [
      "2.4361989498138428\n",
      "[1, 47, 451799, 21234553]\n",
      "[1, 7, 89, 623, 8741, 61187, 777949, 5445643]\n",
      "[1, 2, 2267231, 4534462]\n",
      "[1, 3, 5, 11, 15, 23, 33, 55, 69, 115, 149, 165, 253, 345, 447, 745, 759, 1265, 1639, 2235, 3427, 3795, 4917, 8195, 10281, 17135, 24585, 37697, 51405, 113091, 188485, 565455]\n"
     ]
    }
   ],
   "source": [
    "# 문제 1 답\n",
    "from threading import Thread\n",
    "\n",
    "class FactorizeThread(Thread):\n",
    "    def __init__(self, number):\n",
    "        super().__init__()\n",
    "        self.number = number\n",
    "    \n",
    "    def run(self):\n",
    "        self.factors = list(factorize(self.number))\n",
    "        \n",
    "\n",
    "\n",
    "start = time.time()\n",
    "\n",
    "threads = []\n",
    "for number in numbers:\n",
    "    thread = FactorizeThread(number)\n",
    "    thread.start() # 이게 몬지 몰르겠다\n",
    "    threads.append(thread)\n",
    "    \n",
    "    \n",
    "for thread in threads:\n",
    "    thread.join()\n",
    "\n",
    "end = time.time()\n",
    "delta = end - start\n",
    "print(delta)\n",
    "for i in threads:\n",
    "    print(i.factors)"
   ]
  },
  {
   "cell_type": "code",
   "execution_count": null,
   "metadata": {},
   "outputs": [],
   "source": [
    "# 문제 2 속도가 비슷한 이유는?"
   ]
  }
 ],
 "metadata": {
  "kernelspec": {
   "display_name": "Python 3",
   "language": "python",
   "name": "python3"
  },
  "language_info": {
   "codemirror_mode": {
    "name": "ipython",
    "version": 3
   },
   "file_extension": ".py",
   "mimetype": "text/x-python",
   "name": "python",
   "nbconvert_exporter": "python",
   "pygments_lexer": "ipython3",
   "version": "3.7.4"
  }
 },
 "nbformat": 4,
 "nbformat_minor": 4
}
