{
 "cells": [
  {
   "cell_type": "code",
   "execution_count": 1,
   "metadata": {},
   "outputs": [],
   "source": [
    "# 1번 전역변수 문제"
   ]
  },
  {
   "cell_type": "code",
   "execution_count": 30,
   "metadata": {},
   "outputs": [],
   "source": [
    "def func_1(num=0):\n",
    "    answer = False\n",
    "    def func_2(x):\n",
    "        if x > 1:\n",
    "            answer = True\n",
    "            x += 1\n",
    "        return x\n",
    "    num = func_2(num)\n",
    "    return answer\n",
    "\n",
    "# 다음의 출력 결과는 ?\n",
    "print(func_1(3))\n",
    "print(func_1(0))"
   ]
  },
  {
   "cell_type": "code",
   "execution_count": 29,
   "metadata": {},
   "outputs": [
    {
     "name": "stdout",
     "output_type": "stream",
     "text": [
      "False\n",
      "True\n",
      "False\n"
     ]
    }
   ],
   "source": [
    "def func_1(num=0):\n",
    "    answer = False\n",
    "    print(answer)\n",
    "    def func_2(x):\n",
    "        if x > 1:\n",
    "            answer = True\n",
    "            print(answer)\n",
    "            x += 1\n",
    "        return x\n",
    "    num = func_2(num)\n",
    "    return answer\n",
    "\n",
    "\n",
    "print(func_1(3))\n",
    "# print(func_1(0))"
   ]
  },
  {
   "cell_type": "code",
   "execution_count": 32,
   "metadata": {},
   "outputs": [],
   "source": [
    "# 2번 문제 함수 디폴트\n",
    "def div(a,b,c):\n",
    "    return (a+b) / c\n",
    "\n",
    "# 다음 함수에서 c 값이 없을때 오류를 내지 않고 (a+b)를 출력하도록 함수를 고쳐라\n",
    "print(div(2,4))"
   ]
  },
  {
   "cell_type": "code",
   "execution_count": 7,
   "metadata": {},
   "outputs": [
    {
     "name": "stdout",
     "output_type": "stream",
     "text": [
      "6.0\n"
     ]
    }
   ],
   "source": [
    "# 2번 문제 답\n",
    "def div_answer(a, b, c=1):\n",
    "    return (a+b) / c\n",
    "print(div_answer(2,4))"
   ]
  },
  {
   "cell_type": "code",
   "execution_count": 12,
   "metadata": {},
   "outputs": [
    {
     "name": "stdout",
     "output_type": "stream",
     "text": [
      "{'kyun': 20, 'ice': 40}\n",
      "{'kyun': 20, 'ice': 40}\n"
     ]
    }
   ],
   "source": [
    "# 3번 문제\n",
    "def decode(data = 'error', default={}):\n",
    "    try:\n",
    "        return json.loads(data)\n",
    "    except:\n",
    "        return default\n",
    "\n",
    "foo = decode()\n",
    "foo['kyun'] = 20\n",
    "bar = decode()\n",
    "bar['ice'] = 40\n",
    "\n",
    "print(foo)\n",
    "print(bar)\n",
    "\n",
    "# >>>\n",
    "# {'kyun': 20, 'ice': 40}\n",
    "# {'kyun': 20, 'ice': 40}\n",
    "\n",
    "# 위와같이 변수지정을 다르게 해주고 각각 값을 넣었는데 같은 결과가 나왔다.\n",
    "# 이러한 결과를 예방하기 위해 decode함수를 고쳐라"
   ]
  },
  {
   "cell_type": "code",
   "execution_count": 14,
   "metadata": {},
   "outputs": [
    {
     "name": "stdout",
     "output_type": "stream",
     "text": [
      "{'kyun': 20}\n",
      "{'ice': 40}\n"
     ]
    }
   ],
   "source": [
    "# 3번 답\n",
    "\n",
    "def decode_answer(data = 'error', default=None):\n",
    "    try:\n",
    "        return json.loads(data)\n",
    "    except:\n",
    "        if default == None:\n",
    "            default = {}\n",
    "        return default\n",
    "\n",
    "foo = decode_answer()\n",
    "foo['kyun'] = 20\n",
    "bar = decode_answer()\n",
    "bar['ice'] = 40\n",
    "\n",
    "print(foo)\n",
    "print(bar)\n"
   ]
  },
  {
   "cell_type": "code",
   "execution_count": null,
   "metadata": {},
   "outputs": [],
   "source": []
  }
 ],
 "metadata": {
  "kernelspec": {
   "display_name": "Python 3",
   "language": "python",
   "name": "python3"
  },
  "language_info": {
   "codemirror_mode": {
    "name": "ipython",
    "version": 3
   },
   "file_extension": ".py",
   "mimetype": "text/x-python",
   "name": "python",
   "nbconvert_exporter": "python",
   "pygments_lexer": "ipython3",
   "version": "3.7.4"
  }
 },
 "nbformat": 4,
 "nbformat_minor": 4
}
