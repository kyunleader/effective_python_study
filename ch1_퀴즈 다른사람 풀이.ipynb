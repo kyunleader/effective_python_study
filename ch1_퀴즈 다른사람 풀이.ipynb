{
 "cells": [
  {
   "cell_type": "code",
   "execution_count": 10,
   "id": "special-darkness",
   "metadata": {},
   "outputs": [
    {
     "ename": "ModuleNotFoundError",
     "evalue": "No module named 'db_connect'",
     "output_type": "error",
     "traceback": [
      "\u001b[0;31m---------------------------------------------------------------------------\u001b[0m",
      "\u001b[0;31mModuleNotFoundError\u001b[0m                       Traceback (most recent call last)",
      "\u001b[0;32m<ipython-input-10-cad1e0fc446f>\u001b[0m in \u001b[0;36m<module>\u001b[0;34m\u001b[0m\n\u001b[1;32m      7\u001b[0m \u001b[0;34m\u001b[0m\u001b[0m\n\u001b[1;32m      8\u001b[0m \u001b[0;32mfrom\u001b[0m \u001b[0mbs4\u001b[0m        \u001b[0;32mimport\u001b[0m \u001b[0mBeautifulSoup\u001b[0m\u001b[0;34m\u001b[0m\u001b[0;34m\u001b[0m\u001b[0m\n\u001b[0;32m----> 9\u001b[0;31m \u001b[0;32mfrom\u001b[0m \u001b[0mdb_connect\u001b[0m \u001b[0;32mimport\u001b[0m \u001b[0mengine_connect\u001b[0m\u001b[0;34m\u001b[0m\u001b[0;34m\u001b[0m\u001b[0m\n\u001b[0m",
      "\u001b[0;31mModuleNotFoundError\u001b[0m: No module named 'db_connect'"
     ]
    }
   ],
   "source": [
    "# 1 번\n",
    "\n",
    "import requests \n",
    "import time\n",
    "import json\n",
    "\n",
    "from bs4        import BeautifulSoup\n",
    "from db_connect import engine_connect"
   ]
  },
  {
   "cell_type": "code",
   "execution_count": null,
   "id": "outer-receptor",
   "metadata": {},
   "outputs": [],
   "source": [
    "# 2 번\n",
    "we only have 10 of 'apple'          s"
   ]
  },
  {
   "cell_type": "code",
   "execution_count": 14,
   "id": "thrown-major",
   "metadata": {},
   "outputs": [
    {
     "data": {
      "text/plain": [
       "''"
      ]
     },
     "execution_count": 14,
     "metadata": {},
     "output_type": "execute_result"
    }
   ],
   "source": [
    "# 3 번 \n",
    "# 그냥 쓸경우에는 해당 키가 없을 경우 에러 나옴\n",
    "# get을 쓸 경우에는 해당 키가 없을 경우 뒤에 ''으로 나옴\n",
    "\n",
    "math_scores = {'철수':90 , '영희':34 }\n",
    "math_scores.get('선생님', '')\n",
    "print(math_scores['선생님'])\n"
   ]
  },
  {
   "cell_type": "code",
   "execution_count": 39,
   "id": "oriented-server",
   "metadata": {},
   "outputs": [
    {
     "name": "stdout",
     "output_type": "stream",
     "text": [
      "James ..... 4\n",
      "Ines ..... 2\n",
      "Kim ..... 1\n",
      "Jason ..... None\n"
     ]
    }
   ],
   "source": [
    "# 4번\n",
    "import itertools\n",
    "heights = {'James':1.2, 'Ines':2.1, 'Kim':8, 'Jason':None} # 이름:키\n",
    "weight = [4,2,1] # 몸무게\n",
    "\n",
    "for i,j in itertools.zip_longest(heights.keys(),weight):\n",
    "    print(f'{i} ..... {j}')"
   ]
  },
  {
   "cell_type": "code",
   "execution_count": 31,
   "id": "popular-joyce",
   "metadata": {},
   "outputs": [
    {
     "ename": "SyntaxError",
     "evalue": "invalid syntax (<ipython-input-31-7e6425ea00c1>, line 2)",
     "output_type": "error",
     "traceback": [
      "\u001b[0;36m  File \u001b[0;32m\"<ipython-input-31-7e6425ea00c1>\"\u001b[0;36m, line \u001b[0;32m2\u001b[0m\n\u001b[0;31m    if (aa := res.status_code) == 200:\u001b[0m\n\u001b[0m           ^\u001b[0m\n\u001b[0;31mSyntaxError\u001b[0m\u001b[0;31m:\u001b[0m invalid syntax\n"
     ]
    }
   ],
   "source": [
    "# 5번\n",
    "res = requests.get(url)\n",
    "if (aa := res.status_code) == 200:\n",
    "    print(aa)"
   ]
  },
  {
   "cell_type": "code",
   "execution_count": 35,
   "id": "descending-analyst",
   "metadata": {},
   "outputs": [
    {
     "name": "stdout",
     "output_type": "stream",
     "text": [
      "1 번째\n",
      "task01\n",
      "\n",
      "2 번째\n",
      "task02\n",
      "\n",
      "3 번째\n",
      "task03\n",
      "\n"
     ]
    }
   ],
   "source": [
    "#태훈님 문제 1\n",
    "task_list = ['task01', 'task02', 'task03']\n",
    "\n",
    "for k,i in enumerate(task_list):\n",
    "    print(k+1, '번째')\n",
    "    print(i)\n",
    "    print()"
   ]
  },
  {
   "cell_type": "code",
   "execution_count": 36,
   "id": "certain-property",
   "metadata": {},
   "outputs": [
    {
     "name": "stdout",
     "output_type": "stream",
     "text": [
      "(1, '이상해씨')\n",
      "(2, '파이리')\n",
      "(3, '꼬부기')\n"
     ]
    }
   ],
   "source": [
    "#태훈님 문제 2\n",
    "numbers = [1, 2, 3]\n",
    "names = [\"이상해씨\", \"파이리\", \"꼬부기\"]\n",
    "for i,j in zip(numbers, names):\n",
    "    pair = (i, j)\n",
    "    print(pair)"
   ]
  },
  {
   "cell_type": "code",
   "execution_count": null,
   "id": "metric-dover",
   "metadata": {},
   "outputs": [],
   "source": [
    "#태훈님 문제 3\n",
    "def crawling_start():\n",
    "    \n",
    "\tpass"
   ]
  },
  {
   "cell_type": "code",
   "execution_count": null,
   "id": "close-chosen",
   "metadata": {},
   "outputs": [],
   "source": [
    "#태훈님 문제 4\n",
    "class GoogleCrawler():\n",
    "    \n",
    "    \n",
    "\tpass"
   ]
  },
  {
   "cell_type": "code",
   "execution_count": 37,
   "id": "desirable-enlargement",
   "metadata": {},
   "outputs": [
    {
     "name": "stdout",
     "output_type": "stream",
     "text": [
      "apple orange\n"
     ]
    }
   ],
   "source": [
    "#태훈님 문제 5\n",
    "fruits = ['apple', 'orange']\n",
    "first_fruit, second_fruit =  fruits\n",
    "print(first_fruit, second_fruit)"
   ]
  },
  {
   "cell_type": "code",
   "execution_count": 40,
   "id": "incorporate-morning",
   "metadata": {},
   "outputs": [],
   "source": [
    "from urllib import parse"
   ]
  },
  {
   "cell_type": "code",
   "execution_count": 46,
   "id": "recent-accommodation",
   "metadata": {},
   "outputs": [
    {
     "name": "stdout",
     "output_type": "stream",
     "text": [
      "{'mode': ['LSD'], 'mid': ['shm'], 'sid1': ['103'], 'oid': ['346'], 'aid': ['0000041317']}\n"
     ]
    }
   ],
   "source": [
    "from urllib.parse import parse_qs\n",
    "url = 'https://news.naver.com/main/read.nhn?mode=LSD&mid=shm&sid1=103&oid=346&aid=0000041317'\n",
    "my_value = parse_qs(a2.query,  # 앞부분 제거, 뒤에 옵션만 추출\n",
    "                   keep_blank_values=True)\n",
    "print(my_value)"
   ]
  },
  {
   "cell_type": "code",
   "execution_count": 43,
   "id": "photographic-finland",
   "metadata": {},
   "outputs": [],
   "source": [
    "a2 = parse.urlparse(url)"
   ]
  },
  {
   "cell_type": "code",
   "execution_count": 45,
   "id": "outer-mechanism",
   "metadata": {},
   "outputs": [
    {
     "data": {
      "text/plain": [
       "ParseResult(scheme='https', netloc='news.naver.com', path='/main/read.nhn', params='', query='mode=LSD&mid=shm&sid1=103&oid=346&aid=0000041317', fragment='')"
      ]
     },
     "execution_count": 45,
     "metadata": {},
     "output_type": "execute_result"
    }
   ],
   "source": [
    "a2"
   ]
  },
  {
   "cell_type": "code",
   "execution_count": 44,
   "id": "brilliant-gregory",
   "metadata": {},
   "outputs": [
    {
     "data": {
      "text/plain": [
       "'mode=LSD&mid=shm&sid1=103&oid=346&aid=0000041317'"
      ]
     },
     "execution_count": 44,
     "metadata": {},
     "output_type": "execute_result"
    }
   ],
   "source": [
    "a2.query"
   ]
  },
  {
   "cell_type": "code",
   "execution_count": null,
   "id": "acting-holmes",
   "metadata": {},
   "outputs": [],
   "source": []
  }
 ],
 "metadata": {
  "kernelspec": {
   "display_name": "Python 3",
   "language": "python",
   "name": "python3"
  },
  "language_info": {
   "codemirror_mode": {
    "name": "ipython",
    "version": 3
   },
   "file_extension": ".py",
   "mimetype": "text/x-python",
   "name": "python",
   "nbconvert_exporter": "python",
   "pygments_lexer": "ipython3",
   "version": "3.7.10"
  }
 },
 "nbformat": 4,
 "nbformat_minor": 5
}
