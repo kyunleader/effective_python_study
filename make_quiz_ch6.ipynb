{
 "cells": [
  {
   "cell_type": "code",
   "execution_count": 8,
   "metadata": {},
   "outputs": [
    {
     "name": "stdout",
     "output_type": "stream",
     "text": [
      "첫번째 클래스 출력\n",
      "1000\n",
      "0\n",
      "0.01\n",
      "두번째 클래스 출력\n",
      "1000\n",
      "0\n",
      "0.01\n"
     ]
    },
    {
     "data": {
      "text/plain": [
       "1000"
      ]
     },
     "execution_count": 8,
     "metadata": {},
     "output_type": "execute_result"
    }
   ],
   "source": [
    "# 문제 1) 두개의 자식클래스가 있다. 두번째 자식클래스가 아닌 첫번째 자식클래스를 쓰는 이유는?\n",
    "\n",
    "# 부모 클래스\n",
    "class Resistor:\n",
    "    def __init__(self, ohms):\n",
    "        self.ohms = ohms\n",
    "        self.voltage = 0\n",
    "        self.current = 0\n",
    "\n",
    "# 첫번째 자식 클래스\n",
    "class VoltageResistance(Resistor):\n",
    "    def __init__(self, ohms):\n",
    "        super().__init__(ohms)\n",
    "        self._voltage = 0\n",
    "\n",
    "    @property\n",
    "    def voltage(self):\n",
    "        return self._voltage\n",
    "\n",
    "    @voltage.setter\n",
    "    def voltage(self, voltage):\n",
    "        self._voltage = voltage\n",
    "        self.current = self._voltage / self.ohms\n",
    "\n",
    "        \n",
    "# 두번째 자식 클래스\n",
    "class VoltageResistance2(Resistor):\n",
    "    def valtage(self, voltage):\n",
    "        self._valtage = voltage\n",
    "        self.current = voltage / self.ohms\n",
    "        \n",
    "# 첫번째 자식 클래스 출력\n",
    "print('첫번째 클래스 출력')\n",
    "r2 = VoltageResistance(1000)\n",
    "print(r2.ohms)\n",
    "print(r2.current)\n",
    "r2.voltage = 10\n",
    "print(r2.current)\n",
    "# >>>\n",
    "#     첫번째 클래스 출력\n",
    "#     1000\n",
    "#     0\n",
    "#     0.01\n",
    "\n",
    "# 두번째 자식 클래스 출력\n",
    "print('두번째 클래스 출력')\n",
    "r3 = VoltageResistance2(1000)\n",
    "print(r3.ohms)\n",
    "print(r3.current)\n",
    "r3.valtage(10)\n",
    "print(r3.current)\n",
    "# >>>\n",
    "#     두번째 클래스 출력\n",
    "#     1000\n",
    "#     0\n",
    "#     0.01"
   ]
  },
  {
   "cell_type": "code",
   "execution_count": null,
   "metadata": {},
   "outputs": [],
   "source": [
    "# 쓰는 이유\n",
    "# 지금 보이는 코드에서 눈에 띄는 차이가 보이진 않지만 나중에 클래스문에 상당히 길어지게 될 때 문제가 생긴다.\n",
    "# 너무 많은 함수들을 내장할 경우 함수를 보고 해독하거나 이해하기 쉽지 않은데, @property등의 문자가 있으면\n",
    "# 어느정도 코드를 가늠할 수 있게 된다.\n",
    "# 결국 파이썬을 사용하는 사람들끼리 각자의 클래스를 이해하기 쉽게 만든 장치라고 생각하면 될 것같다."
   ]
  }
 ],
 "metadata": {
  "kernelspec": {
   "display_name": "Python 3",
   "language": "python",
   "name": "python3"
  },
  "language_info": {
   "codemirror_mode": {
    "name": "ipython",
    "version": 3
   },
   "file_extension": ".py",
   "mimetype": "text/x-python",
   "name": "python",
   "nbconvert_exporter": "python",
   "pygments_lexer": "ipython3",
   "version": "3.7.4"
  }
 },
 "nbformat": 4,
 "nbformat_minor": 4
}
