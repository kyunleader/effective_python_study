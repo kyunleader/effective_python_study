{
 "cells": [
  {
   "cell_type": "code",
   "execution_count": 18,
   "metadata": {},
   "outputs": [],
   "source": [
    "# 현재 시간을 Asia/Seoul Timzone 적용시켜 출력해보자\n",
    "# 여러 방법이 있다.\n",
    "\n",
    "import pytz\n",
    "from datetime import datetime\n",
    "# 아래에 코드작성하기"
   ]
  },
  {
   "cell_type": "code",
   "execution_count": 19,
   "metadata": {},
   "outputs": [
    {
     "name": "stdout",
     "output_type": "stream",
     "text": [
      "2021-08-25 09:36:40.917360+09:00\n"
     ]
    }
   ],
   "source": [
    "import pytz\n",
    "from datetime import datetime\n",
    "\n",
    "\n",
    "now = datetime.now(pytz.timezone('Asia/Seoul'))\n",
    "print(now)"
   ]
  },
  {
   "cell_type": "code",
   "execution_count": 10,
   "metadata": {},
   "outputs": [
    {
     "name": "stdout",
     "output_type": "stream",
     "text": [
      "3.15\n",
      "3.14\n"
     ]
    }
   ],
   "source": [
    "# 소수점 두 자리수까지 반올림, 반내림 하여라\n",
    "from decimal import Decimal, ROUND_UP, ROUND_DOWN\n",
    "\n",
    "# 여기에 작성\n",
    "pie = 3.14159265359\n",
    "round_up = Decimal(pie).quantize(Decimal('0.01'), rounding = ROUND_UP)\n",
    "round_down = Decimal(pie).quantize(Decimal('0.01'), rounding = ROUND_DOWN)\n",
    "\n",
    "print(round_up)\n",
    "print(round_down)"
   ]
  },
  {
   "cell_type": "code",
   "execution_count": 11,
   "metadata": {},
   "outputs": [],
   "source": [
    "# 아래에 있는 함수를 Profile하고\n",
    "# Stats으로 성능 통계를 출력하라\n",
    "\n",
    "import random\n",
    "from cProfile import Profile\n",
    "from pstats import Stats\n",
    "\n",
    "\n",
    "def create_range(data):\n",
    "    return [i for i in range(data)]\n",
    "\n",
    "def random_list_generator(data=10_000_000) -> None:\n",
    "    return [random.randrange(1, 10) for i in create_range(data)]"
   ]
  },
  {
   "cell_type": "code",
   "execution_count": 20,
   "metadata": {},
   "outputs": [
    {
     "name": "stdout",
     "output_type": "stream",
     "text": [
      "         47778533 function calls in 20.808 seconds\n",
      "\n",
      "   Ordered by: cumulative time\n",
      "\n",
      "   ncalls  tottime  percall  cumtime  percall filename:lineno(function)\n",
      "        1    0.000    0.000   20.808   20.808 <ipython-input-11-6cd548e4b0b8>:12(random_list_generator)\n",
      "        1    3.090    3.090   20.303   20.303 <ipython-input-11-6cd548e4b0b8>:13(<listcomp>)\n",
      " 10000000    7.123    0.000   17.213    0.000 random.py:174(randrange)\n",
      " 10000000    6.761    0.000   10.090    0.000 random.py:224(_randbelow)\n",
      " 17778528    2.606    0.000    2.606    0.000 {method 'getrandbits' of '_random.Random' objects}\n",
      " 10000000    0.723    0.000    0.723    0.000 {method 'bit_length' of 'int' objects}\n",
      "        1    0.000    0.000    0.505    0.505 <ipython-input-11-6cd548e4b0b8>:9(create_range)\n",
      "        1    0.505    0.505    0.505    0.505 <ipython-input-11-6cd548e4b0b8>:10(<listcomp>)\n",
      "        1    0.000    0.000    0.000    0.000 {method 'disable' of '_lsprof.Profiler' objects}\n",
      "\n",
      "\n"
     ]
    },
    {
     "data": {
      "text/plain": [
       "<pstats.Stats at 0x7fbd593ae650>"
      ]
     },
     "execution_count": 20,
     "metadata": {},
     "output_type": "execute_result"
    }
   ],
   "source": [
    "profiler = Profile()\n",
    "profiler.runcall(random_list_generator)\n",
    "stats = Stats(profiler)\n",
    "stats.strip_dirs()\n",
    "stats.sort_stats('cumulative')\n",
    "stats.print_stats()"
   ]
  },
  {
   "cell_type": "code",
   "execution_count": 22,
   "metadata": {},
   "outputs": [
    {
     "name": "stdout",
     "output_type": "stream",
     "text": [
      "* JSON 데이터 읽기\n",
      "* ValueError 처리\n",
      "함수종료\n"
     ]
    }
   ],
   "source": [
    "# 1. 아래는 오류가 나는 코드를 실행했을 때 출력문 순서를 작성해주세요\n",
    "import json\n",
    "\n",
    "def Fibonacci_Recursion(val=50):\n",
    "    if (val == 1):\n",
    "        return 0\n",
    "    elif (val == 2):\n",
    "        return 1\n",
    "    else:\n",
    "        return Fibonacci_Recursion(val - 1) + Fibonacci_Recursion(val - 2)\n",
    "\n",
    "def load_json_key(data, key):\n",
    "    try:\n",
    "        print('* JSON 데이터 읽기')\n",
    "        result_dict = json.loads(data)     \n",
    "    except ValueError as e:\n",
    "        print('* ValueError 처리')\n",
    "    else:\n",
    "        print('* 키 검색')\n",
    "        return result_dict.get(key,'없음')         \n",
    "    finally:\n",
    "        print(\"함수종료\")\n",
    "\n",
    "load_json_key('{\"foo\": \"bar\"', '이상한 내용') # 출력문 확인"
   ]
  },
  {
   "cell_type": "code",
   "execution_count": 24,
   "metadata": {},
   "outputs": [
    {
     "name": "stdout",
     "output_type": "stream",
     "text": [
      "         11 function calls (3 primitive calls) in 0.000 seconds\n",
      "\n",
      "   Ordered by: cumulative time\n",
      "\n",
      "   ncalls  tottime  percall  cumtime  percall filename:lineno(function)\n",
      "        1    0.000    0.000    0.000    0.000 <ipython-input-24-fa1f42266440>:2(<lambda>)\n",
      "      9/1    0.000    0.000    0.000    0.000 <ipython-input-21-7a3f46b66914>:2(Fibonacci_Recursion)\n",
      "        1    0.000    0.000    0.000    0.000 {method 'disable' of '_lsprof.Profiler' objects}\n",
      "\n",
      "\n"
     ]
    },
    {
     "data": {
      "text/plain": [
       "<pstats.Stats at 0x7fbd59b6a090>"
      ]
     },
     "execution_count": 24,
     "metadata": {},
     "output_type": "execute_result"
    }
   ],
   "source": [
    "profiler2 = Profile()\n",
    "test2 = lambda : Fibonacci_Recursion(5)\n",
    "profiler2.runcall(test2)\n",
    "stats2 = Stats(profiler2)\n",
    "stats2.strip_dirs()\n",
    "stats2.sort_stats('cumulative')   \n",
    "stats2.print_stats()"
   ]
  },
  {
   "cell_type": "code",
   "execution_count": null,
   "metadata": {},
   "outputs": [],
   "source": []
  }
 ],
 "metadata": {
  "kernelspec": {
   "display_name": "Python 3",
   "language": "python",
   "name": "python3"
  },
  "language_info": {
   "codemirror_mode": {
    "name": "ipython",
    "version": 3
   },
   "file_extension": ".py",
   "mimetype": "text/x-python",
   "name": "python",
   "nbconvert_exporter": "python",
   "pygments_lexer": "ipython3",
   "version": "3.7.4"
  }
 },
 "nbformat": 4,
 "nbformat_minor": 4
}
