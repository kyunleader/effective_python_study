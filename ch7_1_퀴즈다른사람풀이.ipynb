{
 "cells": [
  {
   "cell_type": "code",
   "execution_count": 1,
   "metadata": {},
   "outputs": [],
   "source": [
    "# 다른사람풀이\n",
    "\n",
    "# 질문01.\n",
    "# subprocess.run 과 subprocess.Popen 의 차이점은 무엇인가\n",
    "\n",
    "# run은 단순 실행이고\n",
    "# popen은 실행하며 경과를 확인할 수 있다.\n"
   ]
  },
  {
   "cell_type": "code",
   "execution_count": 3,
   "metadata": {},
   "outputs": [
    {
     "ename": "ImportError",
     "evalue": "cannot import name 'lock' from 'threading' (/Library/Frameworks/Python.framework/Versions/3.7/lib/python3.7/threading.py)",
     "output_type": "error",
     "traceback": [
      "\u001b[0;31m---------------------------------------------------------------------------\u001b[0m",
      "\u001b[0;31mImportError\u001b[0m                               Traceback (most recent call last)",
      "\u001b[0;32m<ipython-input-3-6f2cc2322f61>\u001b[0m in \u001b[0;36m<module>\u001b[0;34m\u001b[0m\n\u001b[1;32m      1\u001b[0m \u001b[0;31m# 질문02\u001b[0m\u001b[0;34m\u001b[0m\u001b[0;34m\u001b[0m\u001b[0;34m\u001b[0m\u001b[0m\n\u001b[1;32m      2\u001b[0m \u001b[0;31m# 쓰레드 경합을 피하기 위해 lock 을 사용하라 ( from threading import lock )\u001b[0m\u001b[0;34m\u001b[0m\u001b[0;34m\u001b[0m\u001b[0;34m\u001b[0m\u001b[0m\n\u001b[0;32m----> 3\u001b[0;31m \u001b[0;32mfrom\u001b[0m \u001b[0mthreading\u001b[0m \u001b[0;32mimport\u001b[0m \u001b[0mlock\u001b[0m\u001b[0;34m\u001b[0m\u001b[0;34m\u001b[0m\u001b[0m\n\u001b[0m\u001b[1;32m      4\u001b[0m \u001b[0;32mclass\u001b[0m \u001b[0mTicketStore\u001b[0m\u001b[0;34m(\u001b[0m\u001b[0;34m)\u001b[0m\u001b[0;34m:\u001b[0m\u001b[0;34m\u001b[0m\u001b[0;34m\u001b[0m\u001b[0m\n\u001b[1;32m      5\u001b[0m     \u001b[0mticket_price\u001b[0m \u001b[0;34m=\u001b[0m \u001b[0;36m3000\u001b[0m\u001b[0;34m\u001b[0m\u001b[0;34m\u001b[0m\u001b[0m\n",
      "\u001b[0;31mImportError\u001b[0m: cannot import name 'lock' from 'threading' (/Library/Frameworks/Python.framework/Versions/3.7/lib/python3.7/threading.py)"
     ]
    }
   ],
   "source": [
    "# 질문02\n",
    "# 쓰레드 경합을 피하기 위해 lock 을 사용하라 ( from threading import lock )\n",
    "from threading import lock\n",
    "class TicketStore():\n",
    "    ticket_price = 3000\n",
    "\n",
    "    def __init__(self) -> None:\n",
    "        self.income = 0\n",
    "\n",
    "    @classmethod\n",
    "    def get_ticketprice(cls) -> int:\n",
    "        return cls.ticket_price\n",
    "\n",
    "    def sell_ticket(self):\n",
    "        self.income += self.get_ticketprice()\n",
    "\n",
    "\n",
    "def sell_ticket(sensor_index, how_many, ticket_store):\n",
    "    for _ in range(how_many):\n",
    "        # 센서를 읽는다\n",
    "        ticket_store.sell_ticket()\n",
    "\n",
    "\n",
    "ticket_store = TicketStore()\n",
    "\n",
    "\n",
    "how_many = 100000\n",
    "counter = LockingCounter()\n",
    "\n",
    "threads = []\n",
    "for i in range(5):\n",
    "    thread = Thread(target=sell_ticket,\n",
    "                    args=(i, how_many, ticket_store))\n",
    "    threads.append(thread)\n",
    "    thread.start()\n",
    "\n",
    "for thread in threads:\n",
    "    thread.join()\n",
    "\n",
    "expected = how_many * TicketStore.ticket_price * 5\n",
    "result = ticket_store.income\n",
    "print(f'매출액은 {expected}여야 하는데, 실제로는 {result} 입니다')"
   ]
  },
  {
   "cell_type": "code",
   "execution_count": 4,
   "metadata": {},
   "outputs": [
    {
     "name": "stdout",
     "output_type": "stream",
     "text": [
      "a\n",
      "d\n",
      "e\n",
      "b\n",
      "c\n",
      "f\n"
     ]
    }
   ],
   "source": [
    "# 질문03\n",
    "# 아래에 있는 코드 실행 시 출력되는 알파벳 순서를 표기해주세요.\n",
    "\n",
    "# 왜 이러한 결과가 나왔는지 간단설명하기\n",
    "\n",
    "from queue import Queue\n",
    "from threading import Thread\n",
    "\n",
    "in_queue = Queue()\n",
    "\n",
    "def alphabet():\n",
    "    print('a')\n",
    "    work = in_queue.get()\n",
    "    print('b')\n",
    "    print('c')\n",
    "    in_queue.task_done()\n",
    "\n",
    "thread = Thread(target=alphabet)\n",
    "thread.start()\n",
    "\n",
    "print('d')\n",
    "in_queue.put(object())\n",
    "print('e')\n",
    "in_queue.join()\n",
    "print('f')\n",
    "thread.join()"
   ]
  },
  {
   "cell_type": "code",
   "execution_count": 7,
   "metadata": {},
   "outputs": [
    {
     "name": "stdout",
     "output_type": "stream",
     "text": [
      "소비자 대기생산자 데이터 추가\n",
      "\n",
      "생산자 완료\n",
      "소비자 완료\n"
     ]
    }
   ],
   "source": [
    "# 문제2 아래와 같은 코드를 실행시킬 때\n",
    "# 출력문이 어떤 순서로 나올지 예측해보시오.\n",
    "\n",
    "from queue import Queue\n",
    "from threading import Thread\n",
    "\n",
    "my_queue = Queue()\n",
    "\n",
    "def consumer():\n",
    "    print('소비자 대기')\n",
    "    my_queue.get() \n",
    "    print('소비자 완료')\n",
    "\n",
    "\n",
    "thread = Thread(target=consumer)\n",
    "thread.start()\n",
    "\n",
    "print('생산자 데이터 추가')\n",
    "my_queue.put(object())     \n",
    "print('생산자 완료')\n",
    "thread.join()"
   ]
  },
  {
   "cell_type": "code",
   "execution_count": 6,
   "metadata": {},
   "outputs": [
    {
     "data": {
      "text/plain": [
       "<object at 0x7f986a113ed0>"
      ]
     },
     "execution_count": 6,
     "metadata": {},
     "output_type": "execute_result"
    }
   ],
   "source": [
    "object()"
   ]
  },
  {
   "cell_type": "code",
   "execution_count": null,
   "metadata": {},
   "outputs": [],
   "source": []
  }
 ],
 "metadata": {
  "kernelspec": {
   "display_name": "Python 3",
   "language": "python",
   "name": "python3"
  },
  "language_info": {
   "codemirror_mode": {
    "name": "ipython",
    "version": 3
   },
   "file_extension": ".py",
   "mimetype": "text/x-python",
   "name": "python",
   "nbconvert_exporter": "python",
   "pygments_lexer": "ipython3",
   "version": "3.7.4"
  }
 },
 "nbformat": 4,
 "nbformat_minor": 4
}
