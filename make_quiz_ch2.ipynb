{
 "cells": [
  {
   "cell_type": "markdown",
   "metadata": {},
   "source": [
    "### ch2 퀴즈 만들기"
   ]
  },
  {
   "cell_type": "code",
   "execution_count": 2,
   "metadata": {},
   "outputs": [
    {
     "data": {
      "text/plain": [
       "['e']"
      ]
     },
     "execution_count": 2,
     "metadata": {},
     "output_type": "execute_result"
    }
   ],
   "source": [
    "a = ['a','b','c','d','e','f','g','h','i']\n",
    "#각 결과를 써보자\n",
    "a[::2];   a[::-2];   a[:-2];   a[-3:];   a[3:-3];   a[-5:-4]"
   ]
  },
  {
   "cell_type": "code",
   "execution_count": 1,
   "metadata": {},
   "outputs": [
    {
     "name": "stdout",
     "output_type": "stream",
     "text": [
      "0 1 2 []\n"
     ]
    }
   ],
   "source": [
    "# 다음 결과는 어떻게 나오는가\n",
    "list_0 = [0,1,2]\n",
    "one, two, three, *rest = list_0\n",
    "print(one, two, three, rest)"
   ]
  },
  {
   "cell_type": "code",
   "execution_count": 3,
   "metadata": {},
   "outputs": [
    {
     "name": "stdout",
     "output_type": "stream",
     "text": [
      "{'a': 2, 'b': 2, 'c': 3, 'd': 1, 'i': 1}\n"
     ]
    }
   ],
   "source": [
    "# collections.Counter 와 같은 기능을하는 반복문을 setdefault를 사용하여 만들어라\n",
    "a = ['a','b','c','d','b','a','c','c','i']\n",
    "dic = {}\n",
    "for i in a:\n",
    "    dic.setdefault(i,0)\n",
    "    dic[i] += 1\n",
    "print(dic)"
   ]
  },
  {
   "cell_type": "code",
   "execution_count": null,
   "metadata": {},
   "outputs": [],
   "source": []
  }
 ],
 "metadata": {
  "kernelspec": {
   "display_name": "Python 3",
   "language": "python",
   "name": "python3"
  },
  "language_info": {
   "codemirror_mode": {
    "name": "ipython",
    "version": 3
   },
   "file_extension": ".py",
   "mimetype": "text/x-python",
   "name": "python",
   "nbconvert_exporter": "python",
   "pygments_lexer": "ipython3",
   "version": "3.7.4"
  }
 },
 "nbformat": 4,
 "nbformat_minor": 4
}
