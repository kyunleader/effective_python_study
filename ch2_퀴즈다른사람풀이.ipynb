{
 "cells": [
  {
   "cell_type": "code",
   "execution_count": 1,
   "metadata": {},
   "outputs": [],
   "source": [
    "# 문제풀기"
   ]
  },
  {
   "cell_type": "code",
   "execution_count": 4,
   "metadata": {},
   "outputs": [
    {
     "data": {
      "text/plain": [
       "{'t': 2, 'o': 2, 'm': 1, 'a': 1}"
      ]
     },
     "execution_count": 4,
     "metadata": {},
     "output_type": "execute_result"
    }
   ],
   "source": [
    "def countLetters1(word):\n",
    "    counter = {}\n",
    "    for letter in word:\n",
    "        counter.setdefault(letter, 0)\n",
    "        counter[letter] += 1\n",
    "    return counter\n",
    "\n",
    "countLetters1('tomato')"
   ]
  },
  {
   "cell_type": "code",
   "execution_count": 7,
   "metadata": {},
   "outputs": [
    {
     "ename": "AttributeError",
     "evalue": "'dict' object has no attribute 'defaultdict'",
     "output_type": "error",
     "traceback": [
      "\u001b[0;31m---------------------------------------------------------------------------\u001b[0m",
      "\u001b[0;31mAttributeError\u001b[0m                            Traceback (most recent call last)",
      "\u001b[0;32m<ipython-input-7-9e69fa971dbd>\u001b[0m in \u001b[0;36m<module>\u001b[0;34m\u001b[0m\n\u001b[1;32m      8\u001b[0m     \u001b[0;32mreturn\u001b[0m \u001b[0mcounter\u001b[0m\u001b[0;34m\u001b[0m\u001b[0;34m\u001b[0m\u001b[0m\n\u001b[1;32m      9\u001b[0m \u001b[0;34m\u001b[0m\u001b[0m\n\u001b[0;32m---> 10\u001b[0;31m \u001b[0mcountLetters1\u001b[0m\u001b[0;34m(\u001b[0m\u001b[0;34m'tomato'\u001b[0m\u001b[0;34m)\u001b[0m\u001b[0;34m\u001b[0m\u001b[0;34m\u001b[0m\u001b[0m\n\u001b[0m",
      "\u001b[0;32m<ipython-input-7-9e69fa971dbd>\u001b[0m in \u001b[0;36mcountLetters1\u001b[0;34m(word)\u001b[0m\n\u001b[1;32m      4\u001b[0m     \u001b[0mcounter\u001b[0m \u001b[0;34m=\u001b[0m \u001b[0;34m{\u001b[0m\u001b[0;34m}\u001b[0m\u001b[0;34m\u001b[0m\u001b[0;34m\u001b[0m\u001b[0m\n\u001b[1;32m      5\u001b[0m     \u001b[0;32mfor\u001b[0m \u001b[0mletter\u001b[0m \u001b[0;32min\u001b[0m \u001b[0mword\u001b[0m\u001b[0;34m:\u001b[0m\u001b[0;34m\u001b[0m\u001b[0;34m\u001b[0m\u001b[0m\n\u001b[0;32m----> 6\u001b[0;31m         \u001b[0mcounter\u001b[0m\u001b[0;34m.\u001b[0m\u001b[0mdefaultdict\u001b[0m\u001b[0;34m(\u001b[0m\u001b[0mletter\u001b[0m\u001b[0;34m,\u001b[0m \u001b[0;36m0\u001b[0m\u001b[0;34m)\u001b[0m\u001b[0;34m\u001b[0m\u001b[0;34m\u001b[0m\u001b[0m\n\u001b[0m\u001b[1;32m      7\u001b[0m         \u001b[0mcounter\u001b[0m\u001b[0;34m[\u001b[0m\u001b[0mletter\u001b[0m\u001b[0;34m]\u001b[0m \u001b[0;34m+=\u001b[0m \u001b[0;36m1\u001b[0m\u001b[0;34m\u001b[0m\u001b[0;34m\u001b[0m\u001b[0m\n\u001b[1;32m      8\u001b[0m     \u001b[0;32mreturn\u001b[0m \u001b[0mcounter\u001b[0m\u001b[0;34m\u001b[0m\u001b[0;34m\u001b[0m\u001b[0m\n",
      "\u001b[0;31mAttributeError\u001b[0m: 'dict' object has no attribute 'defaultdict'"
     ]
    }
   ],
   "source": [
    "from collections import defaultdict\n",
    "\n",
    "def countLetters1(word):\n",
    "    counter = {}\n",
    "    for letter in word:\n",
    "        counter.defaultdict(letter, 0)\n",
    "        counter[letter] += 1\n",
    "    return counter\n",
    "\n",
    "countLetters1('tomato')\n"
   ]
  },
  {
   "cell_type": "code",
   "execution_count": 35,
   "metadata": {},
   "outputs": [
    {
     "data": {
      "text/plain": [
       "collections.defaultdict"
      ]
     },
     "execution_count": 35,
     "metadata": {},
     "output_type": "execute_result"
    }
   ],
   "source": [
    "from collections import defaultdict\n",
    "def countLetters1(word):\n",
    "    counter = defaultdict(int)\n",
    "    for letter in word:\n",
    "        counter[letter] += 1\n",
    "    return counter\n",
    "type(countLetters1('tomato'))"
   ]
  },
  {
   "cell_type": "code",
   "execution_count": 8,
   "metadata": {},
   "outputs": [],
   "source": [
    "class Mammal:\n",
    "    def __init__ (self, name, weight):\n",
    "        self.name = name\n",
    "        self.weight = weight\n",
    "    def __repr__(self):\n",
    "        return(f\"Animal({self.name}&{self.weight})\")\n",
    "\n",
    "zoo = [Mammal('lion',99), Mammal('Seal', 1230), Mammal('bear', 12),\n",
    "       Mammal('Aligator',87), Mammal('cat',12)]"
   ]
  },
  {
   "cell_type": "code",
   "execution_count": 9,
   "metadata": {},
   "outputs": [],
   "source": [
    "# 1-1. zoo.sort(key=lambda animal : animal.name)의 실행결과를 예측해보라\n",
    "# 동물이름 이름순으로 나열되서 정리될 듯\n",
    "\n",
    "# 1-2. 동물 몸무게로 오름차순으로 정렬되는 코드를 작성해볼것\n",
    "# zoo.sort(key = lambda animal: animal.weight, reverse = False)\n",
    "\n"
   ]
  },
  {
   "cell_type": "code",
   "execution_count": 36,
   "metadata": {},
   "outputs": [
    {
     "data": {
      "text/plain": [
       "<function dict.get(key, default=None, /)>"
      ]
     },
     "execution_count": 36,
     "metadata": {},
     "output_type": "execute_result"
    }
   ],
   "source": [
    "# 문제2   다음은 인기투표의 결과이다\n",
    "# icehongssii : 5표(1등)\n",
    "# enjoypython : 4표(2등)\n",
    "# kyunleader : 3표(3등)\n",
    "\n",
    "# 파이썬코드로 아래와 같이 출려되도록 작성할 것(순서는 무관함), 각 value는 순위를 의미\n",
    "dic2 = {'ice': 5, 'enjoy': 4, 'kyun': 3}\n",
    "\n",
    "names = list(dic2.keys())\n",
    "names.sort(key = dic2.get, reverse=True)\n",
    "dic2.get\n",
    "\n",
    "\n"
   ]
  },
  {
   "cell_type": "code",
   "execution_count": 14,
   "metadata": {},
   "outputs": [],
   "source": [
    "# 문제 3\n",
    "a = [1,7,[5,6,8]]\n",
    "b = a[1:]\n",
    "# 3-1\n",
    "# b.append(9)실행시\n",
    "# a와b의 출력결과를 작성해볼것\n",
    "\n",
    "# a => 1,7 [5,6,8]\n",
    "# b => 7, [5,6,8], 9\n",
    "\n",
    "# 3-2\n",
    "# b[1].append(10)실행시\n",
    "# a와b의 출력결과 작성해볼것 "
   ]
  },
  {
   "cell_type": "code",
   "execution_count": 15,
   "metadata": {},
   "outputs": [
    {
     "name": "stdout",
     "output_type": "stream",
     "text": [
      "[1, 7, [5, 6, 8]]\n",
      "[7, [5, 6, 8], 9]\n"
     ]
    }
   ],
   "source": [
    "b.append(9)\n",
    "print(a)\n",
    "print(b)"
   ]
  },
  {
   "cell_type": "code",
   "execution_count": 16,
   "metadata": {},
   "outputs": [
    {
     "name": "stdout",
     "output_type": "stream",
     "text": [
      "[1, 7, [5, 6, 8, 10]]\n",
      "[7, [5, 6, 8, 10], 9]\n"
     ]
    }
   ],
   "source": [
    "b[1].append(10)\n",
    "print(a)\n",
    "print(b)"
   ]
  },
  {
   "cell_type": "code",
   "execution_count": null,
   "metadata": {},
   "outputs": [],
   "source": []
  }
 ],
 "metadata": {
  "kernelspec": {
   "display_name": "Python 3",
   "language": "python",
   "name": "python3"
  },
  "language_info": {
   "codemirror_mode": {
    "name": "ipython",
    "version": 3
   },
   "file_extension": ".py",
   "mimetype": "text/x-python",
   "name": "python",
   "nbconvert_exporter": "python",
   "pygments_lexer": "ipython3",
   "version": "3.7.4"
  }
 },
 "nbformat": 4,
 "nbformat_minor": 4
}
