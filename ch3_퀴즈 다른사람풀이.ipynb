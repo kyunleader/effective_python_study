{
 "cells": [
  {
   "cell_type": "code",
   "execution_count": 1,
   "id": "sexual-couple",
   "metadata": {},
   "outputs": [
    {
     "name": "stdout",
     "output_type": "stream",
     "text": [
      "1 - 좋아하는 숫자는: 7,  33\n"
     ]
    }
   ],
   "source": [
    "# values 를 언패킹 하라\n",
    "def log(sequence, message , values):\n",
    "    if not values:\n",
    "        print(f'{sequence} - {message}')\n",
    "    else:\n",
    "        values_str = ',  '.join(str(x) for x in values)\n",
    "    print(f'{sequence} - {message}: {values_str}')\n",
    "\n",
    "log(1, '좋아하는 숫자는', [7, 33])\n",
    "# log(1, '좋아하는 숫자는', 7, 33) # 이걸로 실행가능하게끔 실행"
   ]
  },
  {
   "cell_type": "code",
   "execution_count": 2,
   "id": "designing-designation",
   "metadata": {},
   "outputs": [
    {
     "ename": "TypeError",
     "evalue": "log() takes 3 positional arguments but 4 were given",
     "output_type": "error",
     "traceback": [
      "\u001b[0;31m---------------------------------------------------------------------------\u001b[0m",
      "\u001b[0;31mTypeError\u001b[0m                                 Traceback (most recent call last)",
      "\u001b[0;32m<ipython-input-2-f2d484ab998e>\u001b[0m in \u001b[0;36m<module>\u001b[0;34m\u001b[0m\n\u001b[0;32m----> 1\u001b[0;31m \u001b[0mlog\u001b[0m\u001b[0;34m(\u001b[0m\u001b[0;36m1\u001b[0m\u001b[0;34m,\u001b[0m \u001b[0;34m'좋아하는 숫자는'\u001b[0m\u001b[0;34m,\u001b[0m \u001b[0;36m7\u001b[0m\u001b[0;34m,\u001b[0m \u001b[0;36m33\u001b[0m\u001b[0;34m)\u001b[0m\u001b[0;34m\u001b[0m\u001b[0;34m\u001b[0m\u001b[0m\n\u001b[0m",
      "\u001b[0;31mTypeError\u001b[0m: log() takes 3 positional arguments but 4 were given"
     ]
    }
   ],
   "source": [
    "log(1, '좋아하는 숫자는', 7, 33)"
   ]
  },
  {
   "cell_type": "code",
   "execution_count": 8,
   "id": "efficient-assumption",
   "metadata": {},
   "outputs": [
    {
     "name": "stdout",
     "output_type": "stream",
     "text": [
      "1 - 좋아하는 숫자는: 7,  33\n"
     ]
    }
   ],
   "source": [
    "# values 를 언패킹 하라\n",
    "def log2(sequence, message, *values):\n",
    "    if not values:\n",
    "        print(f'{sequence} - {message}')\n",
    "    else:\n",
    "        values_str = ',  '.join(str(x) for x in values)\n",
    "    print(f'{sequence} - {message}: {values_str}')\n",
    "\n",
    "# log2(1, '좋아하는 숫자는', [7, 33])\n",
    "log2(1, '좋아하는 숫자는', 7, 33) # 이걸로 실행가능하게끔 실행"
   ]
  },
  {
   "cell_type": "code",
   "execution_count": 9,
   "id": "communist-fourth",
   "metadata": {},
   "outputs": [],
   "source": [
    "# None과 독스트링을 사용해 동적인 디폴트인자를 지정하라\n",
    "def decode(data, default):\n",
    "    try:\n",
    "        return json.loads(data)\n",
    "    except ValueError:\n",
    "        return {}"
   ]
  },
  {
   "cell_type": "code",
   "execution_count": 11,
   "id": "smaller-drove",
   "metadata": {},
   "outputs": [],
   "source": [
    "# None과 독스트링을 사용해 동적인 디폴트인자를 지정하라\n",
    "def decode(data, default = None):\n",
    "    try:\n",
    "        return json.loads(data)\n",
    "    except ValueError:\n",
    "        if default == None:\n",
    "            default = {}\n",
    "        return default"
   ]
  },
  {
   "cell_type": "code",
   "execution_count": 12,
   "id": "assigned-exclusive",
   "metadata": {},
   "outputs": [],
   "source": [
    "# None과 독스트링을 사용해 동적인 디폴트인자를 지정하라 질문!!\n",
    "def decode(data, default = {}):\n",
    "    try:\n",
    "        return json.loads(data)\n",
    "    except ValueError:\n",
    "        return default"
   ]
  },
  {
   "cell_type": "code",
   "execution_count": 13,
   "id": "marked-andrew",
   "metadata": {},
   "outputs": [],
   "source": [
    "# functools.wrap을 사용해 함수 데코레이터 개선\n",
    "def trace(func):\n",
    "    def wrapper(*args , **kwargs):\n",
    "        result = func(*args ,**kwargs)\n",
    "        print (f'{func.__name__}({args !r}, {kwargs !r})'\n",
    "                f'-> {result}' )\n",
    "        return result\n",
    "    return wrapper"
   ]
  },
  {
   "cell_type": "code",
   "execution_count": 15,
   "id": "accepting-virgin",
   "metadata": {},
   "outputs": [
    {
     "name": "stdout",
     "output_type": "stream",
     "text": [
      "{'foo___': 1234567, 'bar___': 9999} {'foo___': 1234567, 'bar___': 9999}\n"
     ]
    }
   ],
   "source": [
    "import json\n",
    "def return_json(data, default={}):\n",
    "    try:\n",
    "        return json.loads(data)\n",
    "    except ValueError:\n",
    "        return default\n",
    "foo = return_json('어쩌구저쩌구')\n",
    "foo['foo___'] = 1234567\n",
    "bar = return_json('이러쿵저러쿵')\n",
    "bar['bar___'] = 9999\n",
    "\n",
    "print(foo, bar) #출력결과 예상하기"
   ]
  },
  {
   "cell_type": "code",
   "execution_count": 16,
   "id": "aquatic-comfort",
   "metadata": {},
   "outputs": [
    {
     "name": "stdout",
     "output_type": "stream",
     "text": [
      "{'foo___': 1234567} {'bar___': 9999}\n"
     ]
    }
   ],
   "source": [
    "import json\n",
    "def return_json(data, default=None):\n",
    "    try:\n",
    "        return json.loads(data)\n",
    "    except ValueError:\n",
    "        if default == None:\n",
    "            default = {}\n",
    "        return default\n",
    "foo = return_json('어쩌구저쩌구')\n",
    "foo['foo___'] = 1234567\n",
    "bar = return_json('이러쿵저러쿵')\n",
    "bar['bar___'] = 9999\n",
    "\n",
    "print(foo, bar) #출력결과 예상하기"
   ]
  },
  {
   "cell_type": "code",
   "execution_count": null,
   "id": "exempt-supervisor",
   "metadata": {},
   "outputs": [],
   "source": [
    "def logger(func):\n",
    "    def wrap():\n",
    "        asd = func.__name__()\n",
    "        asd2 = func.__param__()\n",
    "        return asd, asd2\n",
    "    aa, bb = wrap()\n",
    "    print(aa)\n",
    "    print(bb)\n",
    "    return         "
   ]
  }
 ],
 "metadata": {
  "kernelspec": {
   "display_name": "Python 3",
   "language": "python",
   "name": "python3"
  },
  "language_info": {
   "codemirror_mode": {
    "name": "ipython",
    "version": 3
   },
   "file_extension": ".py",
   "mimetype": "text/x-python",
   "name": "python",
   "nbconvert_exporter": "python",
   "pygments_lexer": "ipython3",
   "version": "3.7.10"
  }
 },
 "nbformat": 4,
 "nbformat_minor": 5
}
