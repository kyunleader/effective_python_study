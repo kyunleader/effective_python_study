{
 "cells": [
  {
   "cell_type": "code",
   "execution_count": null,
   "metadata": {},
   "outputs": [],
   "source": [
    "# Q1. 아래에 있는 코드를 @Property 와 @setter 를 사용하여 코드를 개선시켜라\n",
    "\n",
    "# memo_book = Memo('메모장', 'text')\n",
    "# print(memo_book.content)\n",
    "# >>> text"
   ]
  },
  {
   "cell_type": "code",
   "execution_count": 1,
   "metadata": {},
   "outputs": [
    {
     "name": "stdout",
     "output_type": "stream",
     "text": [
      "text\n"
     ]
    }
   ],
   "source": [
    "class Memo:\n",
    "    def __init__(self, name, content):\n",
    "        self.name = name\n",
    "        self._content = content\n",
    "\n",
    "    def content(self):\n",
    "        return self._content\n",
    "\n",
    "\n",
    "memo_book = Memo('메모장', 'text')\n",
    "print(memo_book.content())"
   ]
  },
  {
   "cell_type": "code",
   "execution_count": 3,
   "metadata": {},
   "outputs": [
    {
     "name": "stdout",
     "output_type": "stream",
     "text": [
      "text\n"
     ]
    }
   ],
   "source": [
    "# 답\n",
    "class Memo:\n",
    "    def __init__(self, name, content):\n",
    "        self.name = name\n",
    "        self._content = content\n",
    "\n",
    "    @property\n",
    "    def content(self):\n",
    "        return self._content\n",
    "\n",
    "    @content.setter\n",
    "    def content(self, content):\n",
    "        self._content = content\n",
    "\n",
    "\n",
    "memo_book = Memo('메모장', 'text')\n",
    "print(memo_book.content)"
   ]
  },
  {
   "cell_type": "code",
   "execution_count": 8,
   "metadata": {},
   "outputs": [],
   "source": [
    "# @Property 메서드 이용해 학생의 전체이름을 반환하는 함수를 만들자\n",
    "class Student:\n",
    "    def __init__(self, first_naem, last_name, age) -> None:\n",
    "        self.first_name = first_naem\n",
    "        self.last_name = last_name\n",
    "        self.age = age\n",
    "        self.addr = None\n",
    "    \n",
    "    @property\n",
    "    def age(self):\n",
    "        return self._age\n",
    "    \n",
    "    @age.setter\n",
    "    def age(self,age):\n",
    "        if age < 0:\n",
    "            raise ValueError(\"Invalid age\")\n",
    "        self._age = age \n",
    "\n",
    "    @property\n",
    "    def _addr(self):\n",
    "        return self._addr\n",
    "\n",
    "        \n",
    "    @_addr.setter\n",
    "    def _addr(self, _addr):\n",
    "#         super().__getattribute__('_addr')\n",
    "#         print('_addr setter called')\n",
    "        self.addr = _addr"
   ]
  },
  {
   "cell_type": "code",
   "execution_count": 9,
   "metadata": {},
   "outputs": [],
   "source": [
    "a = Student('김','기현', 12)\n",
    "# a._addr = 'seoul'\n",
    "# a._addr"
   ]
  },
  {
   "cell_type": "code",
   "execution_count": null,
   "metadata": {},
   "outputs": [],
   "source": []
  },
  {
   "cell_type": "code",
   "execution_count": null,
   "metadata": {},
   "outputs": [],
   "source": []
  },
  {
   "cell_type": "code",
   "execution_count": 10,
   "metadata": {},
   "outputs": [],
   "source": [
    "# @Property 메서드 이용해 학생의 전체이름을 반환하는 함수를 만들자\n",
    "class Student:\n",
    "    def __init__(self, first_naem, last_name, age) -> None:\n",
    "        self.first_name = first_naem\n",
    "        self.last_name = last_name\n",
    "        self.age = age\n",
    "        self._addr = None\n",
    "    \n",
    "    @property\n",
    "    def age(self):\n",
    "        return self._age\n",
    "    \n",
    "    @age.setter\n",
    "    def age(self,age):\n",
    "        if age < 0:\n",
    "            raise ValueError(\"Invalid age\")\n",
    "        self._age = age \n",
    "\n",
    "    @property\n",
    "    def addr(self):\n",
    "        return self._addr\n",
    "        \n",
    "    @addr.setter\n",
    "    def addr(self, addr):\n",
    "        self._addr = addr\n",
    "        \n",
    "\n",
    "    ### 여기서부터 함수 작성  ###\n",
    "   ######################"
   ]
  },
  {
   "cell_type": "code",
   "execution_count": 11,
   "metadata": {},
   "outputs": [
    {
     "data": {
      "text/plain": [
       "'seoul'"
      ]
     },
     "execution_count": 11,
     "metadata": {},
     "output_type": "execute_result"
    }
   ],
   "source": [
    "a = Student('김','기현', 12)\n",
    "a.addr = 'seoul'\n",
    "a.addr"
   ]
  },
  {
   "cell_type": "code",
   "execution_count": null,
   "metadata": {},
   "outputs": [],
   "source": []
  },
  {
   "cell_type": "code",
   "execution_count": 12,
   "metadata": {},
   "outputs": [],
   "source": [
    "# @Property 메서드 이용해 학생의 전체이름을 반환하는 함수를 만들자\n",
    "class Student:\n",
    "    def __init__(self, first_naem, last_name, age) -> None:\n",
    "        self.first_name = first_naem\n",
    "        self.last_name = last_name\n",
    "        self.age = age\n",
    "        self.full_name = None\n",
    "    \n",
    "    @property\n",
    "    def age(self):\n",
    "        return self._age\n",
    "    \n",
    "    @age.setter\n",
    "    def age(self,age):\n",
    "        if age < 0:\n",
    "            raise ValueError(\"Invalid age\")\n",
    "        self._age = age \n",
    "\n",
    "#     @property\n",
    "    def an(self):\n",
    "        full_name = self.first_name + self.last_name\n",
    "        return full_name"
   ]
  },
  {
   "cell_type": "code",
   "execution_count": 13,
   "metadata": {},
   "outputs": [
    {
     "data": {
      "text/plain": [
       "'김기현'"
      ]
     },
     "execution_count": 13,
     "metadata": {},
     "output_type": "execute_result"
    }
   ],
   "source": [
    "a = Student('김','기현',12)\n",
    "a.age = 20\n",
    "a.an()"
   ]
  },
  {
   "cell_type": "code",
   "execution_count": 14,
   "metadata": {},
   "outputs": [
    {
     "ename": "RecursionError",
     "evalue": "maximum recursion depth exceeded",
     "output_type": "error",
     "traceback": [
      "\u001b[0;31m---------------------------------------------------------------------------\u001b[0m",
      "\u001b[0;31mRecursionError\u001b[0m                            Traceback (most recent call last)",
      "\u001b[0;32m<ipython-input-14-6c84ef80fcc6>\u001b[0m in \u001b[0;36m<module>\u001b[0;34m\u001b[0m\n\u001b[1;32m     27\u001b[0m         \u001b[0mself\u001b[0m\u001b[0;34m.\u001b[0m\u001b[0m_addr\u001b[0m \u001b[0;34m=\u001b[0m \u001b[0m_addr\u001b[0m\u001b[0;34m\u001b[0m\u001b[0;34m\u001b[0m\u001b[0m\n\u001b[1;32m     28\u001b[0m \u001b[0;34m\u001b[0m\u001b[0m\n\u001b[0;32m---> 29\u001b[0;31m \u001b[0ma\u001b[0m \u001b[0;34m=\u001b[0m \u001b[0mStudent\u001b[0m\u001b[0;34m(\u001b[0m\u001b[0;34m'김'\u001b[0m\u001b[0;34m,\u001b[0m\u001b[0;34m'기현'\u001b[0m\u001b[0;34m,\u001b[0m \u001b[0;36m12\u001b[0m\u001b[0;34m)\u001b[0m\u001b[0;34m\u001b[0m\u001b[0;34m\u001b[0m\u001b[0m\n\u001b[0m",
      "\u001b[0;32m<ipython-input-14-6c84ef80fcc6>\u001b[0m in \u001b[0;36m__init__\u001b[0;34m(self, first_naem, last_name, age)\u001b[0m\n\u001b[1;32m      6\u001b[0m         \u001b[0mself\u001b[0m\u001b[0;34m.\u001b[0m\u001b[0mlast_name\u001b[0m \u001b[0;34m=\u001b[0m \u001b[0mlast_name\u001b[0m\u001b[0;34m\u001b[0m\u001b[0;34m\u001b[0m\u001b[0m\n\u001b[1;32m      7\u001b[0m         \u001b[0mself\u001b[0m\u001b[0;34m.\u001b[0m\u001b[0mage\u001b[0m \u001b[0;34m=\u001b[0m \u001b[0mage\u001b[0m\u001b[0;34m\u001b[0m\u001b[0;34m\u001b[0m\u001b[0m\n\u001b[0;32m----> 8\u001b[0;31m         \u001b[0mself\u001b[0m\u001b[0;34m.\u001b[0m\u001b[0m_addr\u001b[0m \u001b[0;34m=\u001b[0m \u001b[0;32mNone\u001b[0m\u001b[0;34m\u001b[0m\u001b[0;34m\u001b[0m\u001b[0m\n\u001b[0m\u001b[1;32m      9\u001b[0m \u001b[0;34m\u001b[0m\u001b[0m\n\u001b[1;32m     10\u001b[0m     \u001b[0;34m@\u001b[0m\u001b[0mproperty\u001b[0m\u001b[0;34m\u001b[0m\u001b[0;34m\u001b[0m\u001b[0m\n",
      "\u001b[0;32m<ipython-input-14-6c84ef80fcc6>\u001b[0m in \u001b[0;36m_addr\u001b[0;34m(self, _addr)\u001b[0m\n\u001b[1;32m     25\u001b[0m     \u001b[0;34m@\u001b[0m\u001b[0m_addr\u001b[0m\u001b[0;34m.\u001b[0m\u001b[0msetter\u001b[0m\u001b[0;34m\u001b[0m\u001b[0;34m\u001b[0m\u001b[0m\n\u001b[1;32m     26\u001b[0m     \u001b[0;32mdef\u001b[0m \u001b[0m_addr\u001b[0m\u001b[0;34m(\u001b[0m\u001b[0mself\u001b[0m\u001b[0;34m,\u001b[0m \u001b[0m_addr\u001b[0m\u001b[0;34m)\u001b[0m\u001b[0;34m:\u001b[0m\u001b[0;34m\u001b[0m\u001b[0;34m\u001b[0m\u001b[0m\n\u001b[0;32m---> 27\u001b[0;31m         \u001b[0mself\u001b[0m\u001b[0;34m.\u001b[0m\u001b[0m_addr\u001b[0m \u001b[0;34m=\u001b[0m \u001b[0m_addr\u001b[0m\u001b[0;34m\u001b[0m\u001b[0;34m\u001b[0m\u001b[0m\n\u001b[0m\u001b[1;32m     28\u001b[0m \u001b[0;34m\u001b[0m\u001b[0m\n\u001b[1;32m     29\u001b[0m \u001b[0ma\u001b[0m \u001b[0;34m=\u001b[0m \u001b[0mStudent\u001b[0m\u001b[0;34m(\u001b[0m\u001b[0;34m'김'\u001b[0m\u001b[0;34m,\u001b[0m\u001b[0;34m'기현'\u001b[0m\u001b[0;34m,\u001b[0m \u001b[0;36m12\u001b[0m\u001b[0;34m)\u001b[0m\u001b[0;34m\u001b[0m\u001b[0;34m\u001b[0m\u001b[0m\n",
      "... last 1 frames repeated, from the frame below ...\n",
      "\u001b[0;32m<ipython-input-14-6c84ef80fcc6>\u001b[0m in \u001b[0;36m_addr\u001b[0;34m(self, _addr)\u001b[0m\n\u001b[1;32m     25\u001b[0m     \u001b[0;34m@\u001b[0m\u001b[0m_addr\u001b[0m\u001b[0;34m.\u001b[0m\u001b[0msetter\u001b[0m\u001b[0;34m\u001b[0m\u001b[0;34m\u001b[0m\u001b[0m\n\u001b[1;32m     26\u001b[0m     \u001b[0;32mdef\u001b[0m \u001b[0m_addr\u001b[0m\u001b[0;34m(\u001b[0m\u001b[0mself\u001b[0m\u001b[0;34m,\u001b[0m \u001b[0m_addr\u001b[0m\u001b[0;34m)\u001b[0m\u001b[0;34m:\u001b[0m\u001b[0;34m\u001b[0m\u001b[0;34m\u001b[0m\u001b[0m\n\u001b[0;32m---> 27\u001b[0;31m         \u001b[0mself\u001b[0m\u001b[0;34m.\u001b[0m\u001b[0m_addr\u001b[0m \u001b[0;34m=\u001b[0m \u001b[0m_addr\u001b[0m\u001b[0;34m\u001b[0m\u001b[0;34m\u001b[0m\u001b[0m\n\u001b[0m\u001b[1;32m     28\u001b[0m \u001b[0;34m\u001b[0m\u001b[0m\n\u001b[1;32m     29\u001b[0m \u001b[0ma\u001b[0m \u001b[0;34m=\u001b[0m \u001b[0mStudent\u001b[0m\u001b[0;34m(\u001b[0m\u001b[0;34m'김'\u001b[0m\u001b[0;34m,\u001b[0m\u001b[0;34m'기현'\u001b[0m\u001b[0;34m,\u001b[0m \u001b[0;36m12\u001b[0m\u001b[0;34m)\u001b[0m\u001b[0;34m\u001b[0m\u001b[0;34m\u001b[0m\u001b[0m\n",
      "\u001b[0;31mRecursionError\u001b[0m: maximum recursion depth exceeded"
     ]
    }
   ],
   "source": [
    "# 무한루프 오류 _addr이 무한루프가 돌아버린다.\n",
    "# @Property 메서드 이용해 학생의 전체이름을 반환하는 함수를 만들자\n",
    "\n",
    "class Student:\n",
    "    def __init__(self, first_naem, last_name, age) -> None:\n",
    "        self.first_name = first_naem\n",
    "        self.last_name = last_name\n",
    "        self.age = age\n",
    "        self._addr = None\n",
    "    \n",
    "    @property\n",
    "    def age(self):\n",
    "        return self._age\n",
    "    \n",
    "    @age.setter\n",
    "    def age(self,age):\n",
    "        if age < 0:\n",
    "            raise ValueError(\"Invalid age\")\n",
    "        self._age = age \n",
    "\n",
    "    @property\n",
    "    def _addr(self):\n",
    "        return self._addr\n",
    "\n",
    "        \n",
    "    @_addr.setter\n",
    "    def _addr(self, _addr):\n",
    "        self._addr = _addr\n",
    "        \n",
    "a = Student('김','기현', 12)"
   ]
  },
  {
   "cell_type": "code",
   "execution_count": null,
   "metadata": {},
   "outputs": [],
   "source": []
  }
 ],
 "metadata": {
  "kernelspec": {
   "display_name": "Python 3",
   "language": "python",
   "name": "python3"
  },
  "language_info": {
   "codemirror_mode": {
    "name": "ipython",
    "version": 3
   },
   "file_extension": ".py",
   "mimetype": "text/x-python",
   "name": "python",
   "nbconvert_exporter": "python",
   "pygments_lexer": "ipython3",
   "version": "3.7.4"
  }
 },
 "nbformat": 4,
 "nbformat_minor": 4
}
