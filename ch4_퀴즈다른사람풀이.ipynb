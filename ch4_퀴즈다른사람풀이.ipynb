{
 "cells": [
  {
   "cell_type": "code",
   "execution_count": null,
   "metadata": {},
   "outputs": [],
   "source": []
  },
  {
   "cell_type": "code",
   "execution_count": null,
   "metadata": {},
   "outputs": [],
   "source": [
    "# 태훈님 1번 문제\n",
    "def get_even_number(num_list:list):\n",
    "    return_list = []\n",
    "    for num in num_list:\n",
    "        if num % 2 == 0:\n",
    "            return_list.append(num)\n",
    "        else:\n",
    "            pass\n",
    "\n",
    "    return return_list"
   ]
  },
  {
   "cell_type": "code",
   "execution_count": null,
   "metadata": {},
   "outputs": [],
   "source": [
    "get_even_number([1,2,3,4,5])"
   ]
  },
  {
   "cell_type": "code",
   "execution_count": null,
   "metadata": {},
   "outputs": [],
   "source": [
    "def get_even_number2(num_list:list):\n",
    "\n",
    "    for num in num_list:\n",
    "        if num % 2 == 0:\n",
    "            return_list.append(num)\n",
    "        else:\n",
    "            pass\n",
    "    yield i\n",
    "    \n"
   ]
  },
  {
   "cell_type": "code",
   "execution_count": null,
   "metadata": {},
   "outputs": [],
   "source": [
    "get_even_number2([1,2,3,4,5])"
   ]
  },
  {
   "cell_type": "code",
   "execution_count": null,
   "metadata": {},
   "outputs": [],
   "source": [
    "# 태훈님 2번문제\n",
    "# animate() 함수를 yield from 문을 사용하여 개선시켜라\n",
    "def animate():\n",
    "    for delta in move(4, 5.0):\n",
    "        yield delta\n",
    "    for delta in pause(3):\n",
    "        yield delta\n",
    "    for delta in move(2, 3.0):\n",
    "        yield delta\n",
    "\n",
    "def render(delta):\n",
    "    print(f'Delta: {delta:.1f}')\n",
    "    # 화면에서 이미지를 이동시킨다\n",
    "\n",
    "def run(func):\n",
    "    for delta in func():\n",
    "        render(delta)\n",
    "\n",
    "\n",
    "run(animate_composed)"
   ]
  },
  {
   "cell_type": "code",
   "execution_count": null,
   "metadata": {},
   "outputs": [],
   "source": [
    "def animate_composed():\n",
    "    yield from move(4, 5.0)\n",
    "    yield from pause(3)\n",
    "    yield from move(2, 3.0)\n",
    "    \n",
    "\n",
    "run(animate_composed)"
   ]
  },
  {
   "cell_type": "code",
   "execution_count": 15,
   "metadata": {},
   "outputs": [],
   "source": [
    "# 제일님 문제\n",
    "food = ['rice_cake', 'chicken', 'salad']\n",
    "\n",
    "# # 음식의 칼로리를 구하는 함수\n",
    "# def get_food_calrories(food):\n",
    "#     result = []\n",
    "#     for f in food:\n",
    "#         # 칼로리를 구하는 함수라고 가정하자\n",
    "#         calories = len(f)*77/3\n",
    "#         result.append(calories)\n",
    "#     return result\n",
    "\n",
    "# # 1. get_food_calrories함수를 get_food_calrories_ gen라는 제너레이터로 함수로 바꿔라.\n",
    "# # 2. get_food_calrories_gen함수를 두 번 호출하면 어떤 결과가 나올고 그 이유는?\n",
    "# it = get_food_calrories_gen(food)\n",
    "# print(list(it)) \n",
    "# print(list(it)) # 이때 결과값은?\n"
   ]
  },
  {
   "cell_type": "code",
   "execution_count": null,
   "metadata": {},
   "outputs": [],
   "source": [
    "def get_food_calrories_gen(food):\n",
    "    for f in food:\n",
    "        # 칼로리를 구하는 함수라고 가정하자\n",
    "        calories = len(f)*77/3\n",
    "        yield calories"
   ]
  },
  {
   "cell_type": "code",
   "execution_count": null,
   "metadata": {},
   "outputs": [],
   "source": [
    "print(list(get_food_calrories_gen(food)))\n",
    "print(list(get_food_calrories_gen(food)))\n",
    "it = get_food_calrories_gen(food)\n",
    "print(list(it)) \n",
    "print(list(it))"
   ]
  },
  {
   "cell_type": "code",
   "execution_count": null,
   "metadata": {},
   "outputs": [],
   "source": [
    "# 함수를 2번 호출하면 치킨의 결과가 나올것이다\n"
   ]
  },
  {
   "cell_type": "code",
   "execution_count": null,
   "metadata": {},
   "outputs": [],
   "source": [
    "# 3. 이터레이터 프로토콜을 구현해 새로운 컨테이너 클래스를 작성해 2의 문제를 해결해보라\n",
    "class FoodIter:\n",
    "    def __init__(self,food_list):\n",
    "        self.plates = food_list \n",
    "    def __iter__(self):\n",
    "        yield self.plates\n",
    "        #코드 작성 \n",
    "        "
   ]
  },
  {
   "cell_type": "code",
   "execution_count": null,
   "metadata": {},
   "outputs": [],
   "source": [
    "food = FoodIter(food) ################### 수정!!!!\n",
    "cal=get_food_calrories(food)\n",
    "print(cal) # 제대로 출력이 된다!\n",
    "print(cal) # 제대로 출력이 된다!"
   ]
  },
  {
   "cell_type": "code",
   "execution_count": null,
   "metadata": {},
   "outputs": [],
   "source": [
    "class FoodIter:\n",
    "    def __init__(self,food_list):\n",
    "        self.plates = food_list \n",
    "    def __iter__(self):\n",
    "        for food in self.plates:\n",
    "            yield food\n"
   ]
  },
  {
   "cell_type": "code",
   "execution_count": 17,
   "metadata": {},
   "outputs": [],
   "source": [
    "class FoodIter:\n",
    "    def __init__(self,food_list):\n",
    "        self.plates = food_list \n",
    "    def __iter__(self):\n",
    "        for food in self.plates:\n",
    "            yield food\n",
    "    def asd():\n",
    "        aa = []\n",
    "        for food in self.plates:\n",
    "            aa.append(food)\n",
    "        return aa"
   ]
  },
  {
   "cell_type": "code",
   "execution_count": 18,
   "metadata": {},
   "outputs": [
    {
     "name": "stdout",
     "output_type": "stream",
     "text": [
      "[231.0, 179.66666666666666, 128.33333333333334]\n",
      "[231.0, 179.66666666666666, 128.33333333333334]\n"
     ]
    }
   ],
   "source": [
    "food2 = FoodIter(food) ################### 수정!!!!\n",
    "cal=get_food_calrories(food2)\n",
    "print(cal) # 제대로 출력이 된다!\n",
    "print(cal) # 제대로 출력이 된다!"
   ]
  },
  {
   "cell_type": "code",
   "execution_count": null,
   "metadata": {},
   "outputs": [],
   "source": []
  }
 ],
 "metadata": {
  "kernelspec": {
   "display_name": "Python 3",
   "language": "python",
   "name": "python3"
  },
  "language_info": {
   "codemirror_mode": {
    "name": "ipython",
    "version": 3
   },
   "file_extension": ".py",
   "mimetype": "text/x-python",
   "name": "python",
   "nbconvert_exporter": "python",
   "pygments_lexer": "ipython3",
   "version": "3.7.4"
  }
 },
 "nbformat": 4,
 "nbformat_minor": 4
}
