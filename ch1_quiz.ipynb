{
 "cells": [
  {
   "cell_type": "markdown",
   "id": "c601c5dd",
   "metadata": {},
   "source": [
    "## 1번. pep8 스타일에 따라서 코드의 스타일을 수정하세용"
   ]
  },
  {
   "cell_type": "code",
   "execution_count": null,
   "id": "6a183ed6",
   "metadata": {},
   "outputs": [],
   "source": [
    "list_1=[[1,2,3],[4,5,6],[7,8],[],[9,10,11]]\n",
    "dic_1 = {'a':1,'b':2, 'c' : 3,'d': 4}\n",
    "class p_m:\n",
    "    def plus(a=0,b=0):\n",
    "        c=a+b\n",
    "        return c\n",
    "    def minus(d = 0, e = 0):\n",
    "        f = d-e\n",
    "        \n",
    "        return f\n",
    "\n",
    "for i in list_1:\n",
    "    if len(i) == 0:print('빈 리스트 입니다.')\n",
    "    else:print(len(i))"
   ]
  },
  {
   "cell_type": "markdown",
   "id": "ee0ef7d9",
   "metadata": {},
   "source": [
    "## 2번. 다음식의 print 결과는 어떻게 나올까?"
   ]
  },
  {
   "cell_type": "code",
   "execution_count": null,
   "id": "1dfd63c7",
   "metadata": {},
   "outputs": [],
   "source": [
    "print('red %s blue' %f'an{0.2735456:.2%}n%sd')"
   ]
  },
  {
   "cell_type": "markdown",
   "id": "eaa64554",
   "metadata": {},
   "source": [
    "## 3번. 문자열 다루기"
   ]
  },
  {
   "cell_type": "code",
   "execution_count": null,
   "id": "cb220f6e",
   "metadata": {},
   "outputs": [],
   "source": [
    "key = '내 몸무게'\n",
    "value = 85.1257\n",
    "# 각각 % 와 format, f문자열을 사용해\n",
    "# 내 몸무게     =     85.13\n",
    "# 으로 표현해보자"
   ]
  },
  {
   "cell_type": "markdown",
   "id": "54e3fcc3",
   "metadata": {},
   "source": [
    "## 4번 . url 파라미터 가져와보기"
   ]
  },
  {
   "cell_type": "code",
   "execution_count": null,
   "id": "9a2f253f",
   "metadata": {},
   "outputs": [],
   "source": [
    "\n",
    "# https://news.naver.com/main/read.nhn?mode=LSD&mid=shm&sid1=103&oid=346&aid=0000041317\n",
    "# 해당 url의 mode, mid, sid1, oid, aid의 파라미터를 가져오는 식을 만들어라"
   ]
  },
  {
   "cell_type": "markdown",
   "id": "9489fa70",
   "metadata": {},
   "source": [
    "## 5번. 언패킹 "
   ]
  },
  {
   "cell_type": "code",
   "execution_count": null,
   "id": "c731b6ae",
   "metadata": {},
   "outputs": [],
   "source": [
    "# [프레즐, 당근, 쑥갓, 베이컨]의 오름차순 정렬을 함수로 만들어라\n",
    "# 이건 p.63에 답이 있는데 이해가 안됩니다. ㅎㅎ 진짜 질문"
   ]
  },
  {
   "cell_type": "code",
   "execution_count": null,
   "id": "a8a03d61",
   "metadata": {},
   "outputs": [],
   "source": []
  },
  {
   "cell_type": "code",
   "execution_count": null,
   "id": "7a435cf6",
   "metadata": {},
   "outputs": [],
   "source": []
  },
  {
   "cell_type": "code",
   "execution_count": null,
   "id": "4c0e3555",
   "metadata": {},
   "outputs": [],
   "source": []
  }
 ],
 "metadata": {
  "kernelspec": {
   "display_name": "Python 3",
   "language": "python",
   "name": "python3"
  },
  "language_info": {
   "codemirror_mode": {
    "name": "ipython",
    "version": 3
   },
   "file_extension": ".py",
   "mimetype": "text/x-python",
   "name": "python",
   "nbconvert_exporter": "python",
   "pygments_lexer": "ipython3",
   "version": "3.9.4"
  }
 },
 "nbformat": 4,
 "nbformat_minor": 5
}
