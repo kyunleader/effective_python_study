{
 "cells": [
  {
   "cell_type": "code",
   "execution_count": 1,
   "metadata": {},
   "outputs": [],
   "source": [
    "# 문제 1. 다음 a()을 오류없이 실행시키도록 class RandomPick을 수정하라.\n",
    "import random\n",
    "\n",
    "class RandomPick:\n",
    "\n",
    "  def __init__(self):\n",
    "    self._numbers = [n for n in range(1, 101)]\n",
    "\n",
    "  def pick(self):\n",
    "    random.shuffle(self._numbers)\n",
    "    return sorted([random.choice(self._numbers) for _ in range(10)])\n",
    "#   def __call__(self):\n",
    "#     return self.pick()"
   ]
  },
  {
   "cell_type": "code",
   "execution_count": 3,
   "metadata": {},
   "outputs": [
    {
     "ename": "TypeError",
     "evalue": "'RandomPick' object is not callable",
     "output_type": "error",
     "traceback": [
      "\u001b[0;31m---------------------------------------------------------------------------\u001b[0m",
      "\u001b[0;31mTypeError\u001b[0m                                 Traceback (most recent call last)",
      "\u001b[0;32m<ipython-input-3-fb11a6211aef>\u001b[0m in \u001b[0;36m<module>\u001b[0;34m\u001b[0m\n\u001b[1;32m      1\u001b[0m \u001b[0ma\u001b[0m \u001b[0;34m=\u001b[0m \u001b[0mRandomPick\u001b[0m\u001b[0;34m(\u001b[0m\u001b[0;34m)\u001b[0m\u001b[0;34m\u001b[0m\u001b[0;34m\u001b[0m\u001b[0m\n\u001b[0;32m----> 2\u001b[0;31m \u001b[0ma\u001b[0m\u001b[0;34m(\u001b[0m\u001b[0;34m)\u001b[0m \u001b[0;31m# [7, 9, 10, 11, 36, 37, 52, 71, 80, 100]\u001b[0m\u001b[0;34m\u001b[0m\u001b[0;34m\u001b[0m\u001b[0m\n\u001b[0m\u001b[1;32m      3\u001b[0m \u001b[0;31m# a.pick() # [4, 18, 31, 36, 46, 50, 52, 70, 93, 94]\u001b[0m\u001b[0;34m\u001b[0m\u001b[0;34m\u001b[0m\u001b[0;34m\u001b[0m\u001b[0m\n",
      "\u001b[0;31mTypeError\u001b[0m: 'RandomPick' object is not callable"
     ]
    }
   ],
   "source": [
    "a = RandomPick()\n",
    "a()"
   ]
  },
  {
   "cell_type": "code",
   "execution_count": 4,
   "metadata": {},
   "outputs": [
    {
     "data": {
      "text/plain": [
       "[5, 6, 17, 18, 20, 31, 60, 87, 95, 96]"
      ]
     },
     "execution_count": 4,
     "metadata": {},
     "output_type": "execute_result"
    }
   ],
   "source": [
    "# 문제1. 정답  => __call__추가\n",
    "import random\n",
    "\n",
    "class RandomPick:\n",
    "\n",
    "  def __init__(self):\n",
    "    self._numbers = [n for n in range(1, 101)]\n",
    "\n",
    "  def pick(self):\n",
    "    random.shuffle(self._numbers)\n",
    "    return sorted([random.choice(self._numbers) for _ in range(10)])\n",
    "\n",
    "  def __call__(self):\n",
    "    return self.pick()\n",
    "\n",
    "a = RandomPick()\n",
    "a()"
   ]
  },
  {
   "cell_type": "code",
   "execution_count": null,
   "metadata": {},
   "outputs": [],
   "source": []
  }
 ],
 "metadata": {
  "kernelspec": {
   "display_name": "Python 3",
   "language": "python",
   "name": "python3"
  },
  "language_info": {
   "codemirror_mode": {
    "name": "ipython",
    "version": 3
   },
   "file_extension": ".py",
   "mimetype": "text/x-python",
   "name": "python",
   "nbconvert_exporter": "python",
   "pygments_lexer": "ipython3",
   "version": "3.7.4"
  }
 },
 "nbformat": 4,
 "nbformat_minor": 4
}
