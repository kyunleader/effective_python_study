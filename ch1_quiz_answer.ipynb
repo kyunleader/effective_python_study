{
 "cells": [
  {
   "cell_type": "markdown",
   "metadata": {},
   "source": [
    "### effective_python"
   ]
  },
  {
   "cell_type": "markdown",
   "metadata": {},
   "source": [
    "### ch.1 문제 만들기"
   ]
  },
  {
   "cell_type": "code",
   "execution_count": 1,
   "metadata": {},
   "outputs": [],
   "source": [
    "# 1번. pep8 스타일에 따라서 코드의 스타일을 수정하세용"
   ]
  },
  {
   "cell_type": "code",
   "execution_count": 14,
   "metadata": {},
   "outputs": [
    {
     "name": "stdout",
     "output_type": "stream",
     "text": [
      "3\n",
      "3\n",
      "2\n",
      "빈 리스트 입니다.\n",
      "3\n"
     ]
    }
   ],
   "source": [
    "list_1=[[1,2,3],[4,5,6],[7,8],[],[9,10,11]]\n",
    "dic_1 = {'a':1,'b':2, 'c' : 3,'d': 4}\n",
    "class p_m:\n",
    "    def plus(a=0,b=0):\n",
    "        c=a+b\n",
    "        return c\n",
    "    def minus(d = 0, e = 0):\n",
    "        f = d-e\n",
    "        \n",
    "        return f\n",
    "\n",
    "for i in list_1:\n",
    "    if len(i) == 0:print('빈 리스트 입니다.')\n",
    "    else:print(len(i))"
   ]
  },
  {
   "cell_type": "code",
   "execution_count": 15,
   "metadata": {},
   "outputs": [
    {
     "data": {
      "text/plain": [
       "3"
      ]
     },
     "execution_count": 15,
     "metadata": {},
     "output_type": "execute_result"
    }
   ],
   "source": [
    "p_m.plus(1,2)"
   ]
  },
  {
   "cell_type": "code",
   "execution_count": 18,
   "metadata": {},
   "outputs": [
    {
     "name": "stdout",
     "output_type": "stream",
     "text": [
      "3\n",
      "3\n",
      "2\n",
      "빈 리스트 입니다.\n",
      "3\n"
     ]
    }
   ],
   "source": [
    "# 정답 : 변수 대입시 앞뒤 공백, 리스트간 공백, 딕셔러니 공백, 함수 안의 =앞뒤 붙여쓰기, \n",
    "#       if else 문 줄바꿈, len(i) == 0 바꿔쓰기, 클래스와 함수간 2줄 공백, 함수끼리 1줄 공백\n",
    "list_1 = [[1, 2, 3], [4, 5, 6], [7, 8], [], [9, 10, 11]]\n",
    "dic_1 = {'a': 1, 'b': 2, 'c': 3, 'd': 4}\n",
    "\n",
    "\n",
    "class p_m:\n",
    "    \n",
    "    \n",
    "    def plus(a=0, b=0):\n",
    "        c = a + b\n",
    "        return c\n",
    "\n",
    "    def minus(d=0, e=0):\n",
    "        f = d - e\n",
    "        return f\n",
    "\n",
    "\n",
    "for i in list_1:\n",
    "    if not i:\n",
    "        print('빈 리스트 입니다.')\n",
    "    else:\n",
    "        print(len(i))"
   ]
  },
  {
   "cell_type": "code",
   "execution_count": null,
   "metadata": {},
   "outputs": [],
   "source": [
    "# 2번. 다음식의 print 결과는 어떻게 나올까?\n",
    "print('red %s blue' %f'an{0.2735456:.2%}n%sd')"
   ]
  },
  {
   "cell_type": "code",
   "execution_count": null,
   "metadata": {},
   "outputs": [],
   "source": []
  },
  {
   "cell_type": "code",
   "execution_count": 3,
   "metadata": {},
   "outputs": [],
   "source": [
    "# 3번. \n",
    "key = '내 몸무게'\n",
    "value = 85.1257\n",
    "# 각각 % 와 format, f문자열을 사용해\n",
    "# 내 몸무게     =     85.13\n",
    "# 으로 표현해보자\n"
   ]
  },
  {
   "cell_type": "code",
   "execution_count": 29,
   "metadata": {},
   "outputs": [
    {
     "data": {
      "text/plain": [
       "'내 몸무게      =     85.13'"
      ]
     },
     "execution_count": 29,
     "metadata": {},
     "output_type": "execute_result"
    }
   ],
   "source": [
    "# %으로 표현하기\n",
    "'%-10s =     %.2f' % (key, value)"
   ]
  },
  {
   "cell_type": "code",
   "execution_count": 27,
   "metadata": {
    "scrolled": true
   },
   "outputs": [
    {
     "data": {
      "text/plain": [
       "'내 몸무게     =     85.13'"
      ]
     },
     "execution_count": 27,
     "metadata": {},
     "output_type": "execute_result"
    }
   ],
   "source": [
    "# format으로 표현하기\n",
    "'{:10}={:>10.2f}'.format(key,value)"
   ]
  },
  {
   "cell_type": "code",
   "execution_count": 34,
   "metadata": {},
   "outputs": [
    {
     "data": {
      "text/plain": [
       "'내 몸무게     =     85.13'"
      ]
     },
     "execution_count": 34,
     "metadata": {},
     "output_type": "execute_result"
    }
   ],
   "source": [
    "f'{key:10}={value:10.2f}'"
   ]
  },
  {
   "cell_type": "code",
   "execution_count": 35,
   "metadata": {},
   "outputs": [
    {
     "ename": "SyntaxError",
     "evalue": "invalid syntax (<ipython-input-35-253569604613>, line 2)",
     "output_type": "error",
     "traceback": [
      "\u001b[1;36m  File \u001b[1;32m\"<ipython-input-35-253569604613>\"\u001b[1;36m, line \u001b[1;32m2\u001b[0m\n\u001b[1;33m    https://news.naver.com/main/read.nhn?mode=LSD&mid=shm&sid1=103&oid=346&aid=0000041317\u001b[0m\n\u001b[1;37m          ^\u001b[0m\n\u001b[1;31mSyntaxError\u001b[0m\u001b[1;31m:\u001b[0m invalid syntax\n"
     ]
    }
   ],
   "source": [
    "# 4번 \n",
    "# https://news.naver.com/main/read.nhn?mode=LSD&mid=shm&sid1=103&oid=346&aid=0000041317\n",
    "# 해당 url의 mode, mid, sid1, oid, aid의 파라미터를 가져오는 식을 만들어라"
   ]
  },
  {
   "cell_type": "code",
   "execution_count": 46,
   "metadata": {},
   "outputs": [
    {
     "name": "stdout",
     "output_type": "stream",
     "text": [
      "{'mode': ['LSD'], 'mid': ['shm'], 'sid1': ['103'], 'oid': ['346'], 'aid': ['0000041317']}\n"
     ]
    }
   ],
   "source": [
    "from urllib.parse import parse_qs\n",
    "url = 'https://news.naver.com/main/read.nhn?mode=LSD&mid=shm&sid1=103&oid=346&aid=0000041317'\n",
    "my_value = parse_qs(url[37:],  # 앞부분 제거, 뒤에 옵션만 추출\n",
    "                   keep_blank_values=True)\n",
    "print(my_value)"
   ]
  },
  {
   "cell_type": "code",
   "execution_count": null,
   "metadata": {},
   "outputs": [],
   "source": [
    "# 5번 \n",
    "# [프레즐, 당근, 쑥갓, 베이컨]의 오름차순 정렬을 함수로 만들어라\n",
    "# 이건 p.63에 답이 있는데 이해가 안됩니다. ㅎㅎ 진짜 질문"
   ]
  }
 ],
 "metadata": {
  "kernelspec": {
   "display_name": "Python 3",
   "language": "python",
   "name": "python3"
  },
  "language_info": {
   "codemirror_mode": {
    "name": "ipython",
    "version": 3
   },
   "file_extension": ".py",
   "mimetype": "text/x-python",
   "name": "python",
   "nbconvert_exporter": "python",
   "pygments_lexer": "ipython3",
   "version": "3.9.4"
  }
 },
 "nbformat": 4,
 "nbformat_minor": 4
}
